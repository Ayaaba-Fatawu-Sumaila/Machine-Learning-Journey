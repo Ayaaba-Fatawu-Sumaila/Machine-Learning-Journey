{
  "metadata": {
    "kernelspec": {
      "display_name": "Python 3 (ipykernel)",
      "language": "python",
      "name": "python3"
    },
    "language_info": {
      "codemirror_mode": {
        "name": "ipython",
        "version": 3
      },
      "file_extension": ".py",
      "mimetype": "text/x-python",
      "name": "python",
      "nbconvert_exporter": "python",
      "pygments_lexer": "ipython3",
      "version": "3.12.7"
    },
    "kaggle": {
      "accelerator": "none",
      "dataSources": [
        {
          "sourceId": 10851887,
          "sourceType": "datasetVersion",
          "datasetId": 6740017
        }
      ],
      "dockerImageVersionId": 30918,
      "isInternetEnabled": true,
      "language": "python",
      "sourceType": "notebook",
      "isGpuEnabled": false
    },
    "colab": {
      "name": "Home-price-prediction",
      "provenance": [],
      "include_colab_link": true
    },
    "widgets": {
      "application/vnd.jupyter.widget-state+json": {
        "72f659f9e7af4cacaf9553d6f01aee53": {
          "model_module": "@jupyter-widgets/controls",
          "model_name": "VBoxModel",
          "model_module_version": "1.5.0",
          "state": {
            "_dom_classes": [],
            "_model_module": "@jupyter-widgets/controls",
            "_model_module_version": "1.5.0",
            "_model_name": "VBoxModel",
            "_view_count": null,
            "_view_module": "@jupyter-widgets/controls",
            "_view_module_version": "1.5.0",
            "_view_name": "VBoxView",
            "box_style": "",
            "children": [
              "IPY_MODEL_e70660c7464243d8ac318629086e0672",
              "IPY_MODEL_326f2ac6063b486d85c7573c654cba18",
              "IPY_MODEL_9d0276925ed34d5392a3dabb22faa768",
              "IPY_MODEL_6625f18e9da149618bbb38634b61e1e9",
              "IPY_MODEL_71db3db16800419eb2e52fa4948b043a"
            ],
            "layout": "IPY_MODEL_e24e6d452e86482da8ff07c7dedea99a"
          }
        },
        "e70660c7464243d8ac318629086e0672": {
          "model_module": "@jupyter-widgets/controls",
          "model_name": "HTMLModel",
          "model_module_version": "1.5.0",
          "state": {
            "_dom_classes": [],
            "_model_module": "@jupyter-widgets/controls",
            "_model_module_version": "1.5.0",
            "_model_name": "HTMLModel",
            "_view_count": null,
            "_view_module": "@jupyter-widgets/controls",
            "_view_module_version": "1.5.0",
            "_view_name": "HTMLView",
            "description": "",
            "description_tooltip": null,
            "layout": "IPY_MODEL_c554f103e6a743349fc66ab81270fde2",
            "placeholder": "​",
            "style": "IPY_MODEL_1df7fd52eb1a498192e6c7924357dbee",
            "value": "<center> <img\nsrc=https://www.kaggle.com/static/images/site-logo.png\nalt='Kaggle'> <br> Create an API token from <a\nhref=\"https://www.kaggle.com/settings/account\" target=\"_blank\">your Kaggle\nsettings page</a> and paste it below along with your Kaggle username. <br> </center>"
          }
        },
        "326f2ac6063b486d85c7573c654cba18": {
          "model_module": "@jupyter-widgets/controls",
          "model_name": "TextModel",
          "model_module_version": "1.5.0",
          "state": {
            "_dom_classes": [],
            "_model_module": "@jupyter-widgets/controls",
            "_model_module_version": "1.5.0",
            "_model_name": "TextModel",
            "_view_count": null,
            "_view_module": "@jupyter-widgets/controls",
            "_view_module_version": "1.5.0",
            "_view_name": "TextView",
            "continuous_update": true,
            "description": "Username:",
            "description_tooltip": null,
            "disabled": false,
            "layout": "IPY_MODEL_4c8a264040ad457696b7e0efc49854cf",
            "placeholder": "​",
            "style": "IPY_MODEL_959a320dd3c2413abac7a35b96c88202",
            "value": ""
          }
        },
        "9d0276925ed34d5392a3dabb22faa768": {
          "model_module": "@jupyter-widgets/controls",
          "model_name": "PasswordModel",
          "model_module_version": "1.5.0",
          "state": {
            "_dom_classes": [],
            "_model_module": "@jupyter-widgets/controls",
            "_model_module_version": "1.5.0",
            "_model_name": "PasswordModel",
            "_view_count": null,
            "_view_module": "@jupyter-widgets/controls",
            "_view_module_version": "1.5.0",
            "_view_name": "PasswordView",
            "continuous_update": true,
            "description": "Token:",
            "description_tooltip": null,
            "disabled": false,
            "layout": "IPY_MODEL_a86023707dde4baf81a7d40c8cc6057d",
            "placeholder": "​",
            "style": "IPY_MODEL_893a0e97f241454dbbd18248cb4bd9e7",
            "value": ""
          }
        },
        "6625f18e9da149618bbb38634b61e1e9": {
          "model_module": "@jupyter-widgets/controls",
          "model_name": "ButtonModel",
          "model_module_version": "1.5.0",
          "state": {
            "_dom_classes": [],
            "_model_module": "@jupyter-widgets/controls",
            "_model_module_version": "1.5.0",
            "_model_name": "ButtonModel",
            "_view_count": null,
            "_view_module": "@jupyter-widgets/controls",
            "_view_module_version": "1.5.0",
            "_view_name": "ButtonView",
            "button_style": "",
            "description": "Login",
            "disabled": false,
            "icon": "",
            "layout": "IPY_MODEL_6bbfcd3c6f744e04a09fbfb4566a29a4",
            "style": "IPY_MODEL_6e06d1dc64514c14a45efd99f7b5922c",
            "tooltip": ""
          }
        },
        "71db3db16800419eb2e52fa4948b043a": {
          "model_module": "@jupyter-widgets/controls",
          "model_name": "HTMLModel",
          "model_module_version": "1.5.0",
          "state": {
            "_dom_classes": [],
            "_model_module": "@jupyter-widgets/controls",
            "_model_module_version": "1.5.0",
            "_model_name": "HTMLModel",
            "_view_count": null,
            "_view_module": "@jupyter-widgets/controls",
            "_view_module_version": "1.5.0",
            "_view_name": "HTMLView",
            "description": "",
            "description_tooltip": null,
            "layout": "IPY_MODEL_8168544f1be0429682665292af626670",
            "placeholder": "​",
            "style": "IPY_MODEL_bae7d8ec1de74243b6c3a5512656ab91",
            "value": "\n<b>Thank You</b></center>"
          }
        },
        "e24e6d452e86482da8ff07c7dedea99a": {
          "model_module": "@jupyter-widgets/base",
          "model_name": "LayoutModel",
          "model_module_version": "1.2.0",
          "state": {
            "_model_module": "@jupyter-widgets/base",
            "_model_module_version": "1.2.0",
            "_model_name": "LayoutModel",
            "_view_count": null,
            "_view_module": "@jupyter-widgets/base",
            "_view_module_version": "1.2.0",
            "_view_name": "LayoutView",
            "align_content": null,
            "align_items": "center",
            "align_self": null,
            "border": null,
            "bottom": null,
            "display": "flex",
            "flex": null,
            "flex_flow": "column",
            "grid_area": null,
            "grid_auto_columns": null,
            "grid_auto_flow": null,
            "grid_auto_rows": null,
            "grid_column": null,
            "grid_gap": null,
            "grid_row": null,
            "grid_template_areas": null,
            "grid_template_columns": null,
            "grid_template_rows": null,
            "height": null,
            "justify_content": null,
            "justify_items": null,
            "left": null,
            "margin": null,
            "max_height": null,
            "max_width": null,
            "min_height": null,
            "min_width": null,
            "object_fit": null,
            "object_position": null,
            "order": null,
            "overflow": null,
            "overflow_x": null,
            "overflow_y": null,
            "padding": null,
            "right": null,
            "top": null,
            "visibility": null,
            "width": "50%"
          }
        },
        "c554f103e6a743349fc66ab81270fde2": {
          "model_module": "@jupyter-widgets/base",
          "model_name": "LayoutModel",
          "model_module_version": "1.2.0",
          "state": {
            "_model_module": "@jupyter-widgets/base",
            "_model_module_version": "1.2.0",
            "_model_name": "LayoutModel",
            "_view_count": null,
            "_view_module": "@jupyter-widgets/base",
            "_view_module_version": "1.2.0",
            "_view_name": "LayoutView",
            "align_content": null,
            "align_items": null,
            "align_self": null,
            "border": null,
            "bottom": null,
            "display": null,
            "flex": null,
            "flex_flow": null,
            "grid_area": null,
            "grid_auto_columns": null,
            "grid_auto_flow": null,
            "grid_auto_rows": null,
            "grid_column": null,
            "grid_gap": null,
            "grid_row": null,
            "grid_template_areas": null,
            "grid_template_columns": null,
            "grid_template_rows": null,
            "height": null,
            "justify_content": null,
            "justify_items": null,
            "left": null,
            "margin": null,
            "max_height": null,
            "max_width": null,
            "min_height": null,
            "min_width": null,
            "object_fit": null,
            "object_position": null,
            "order": null,
            "overflow": null,
            "overflow_x": null,
            "overflow_y": null,
            "padding": null,
            "right": null,
            "top": null,
            "visibility": null,
            "width": null
          }
        },
        "1df7fd52eb1a498192e6c7924357dbee": {
          "model_module": "@jupyter-widgets/controls",
          "model_name": "DescriptionStyleModel",
          "model_module_version": "1.5.0",
          "state": {
            "_model_module": "@jupyter-widgets/controls",
            "_model_module_version": "1.5.0",
            "_model_name": "DescriptionStyleModel",
            "_view_count": null,
            "_view_module": "@jupyter-widgets/base",
            "_view_module_version": "1.2.0",
            "_view_name": "StyleView",
            "description_width": ""
          }
        },
        "4c8a264040ad457696b7e0efc49854cf": {
          "model_module": "@jupyter-widgets/base",
          "model_name": "LayoutModel",
          "model_module_version": "1.2.0",
          "state": {
            "_model_module": "@jupyter-widgets/base",
            "_model_module_version": "1.2.0",
            "_model_name": "LayoutModel",
            "_view_count": null,
            "_view_module": "@jupyter-widgets/base",
            "_view_module_version": "1.2.0",
            "_view_name": "LayoutView",
            "align_content": null,
            "align_items": null,
            "align_self": null,
            "border": null,
            "bottom": null,
            "display": null,
            "flex": null,
            "flex_flow": null,
            "grid_area": null,
            "grid_auto_columns": null,
            "grid_auto_flow": null,
            "grid_auto_rows": null,
            "grid_column": null,
            "grid_gap": null,
            "grid_row": null,
            "grid_template_areas": null,
            "grid_template_columns": null,
            "grid_template_rows": null,
            "height": null,
            "justify_content": null,
            "justify_items": null,
            "left": null,
            "margin": null,
            "max_height": null,
            "max_width": null,
            "min_height": null,
            "min_width": null,
            "object_fit": null,
            "object_position": null,
            "order": null,
            "overflow": null,
            "overflow_x": null,
            "overflow_y": null,
            "padding": null,
            "right": null,
            "top": null,
            "visibility": null,
            "width": null
          }
        },
        "959a320dd3c2413abac7a35b96c88202": {
          "model_module": "@jupyter-widgets/controls",
          "model_name": "DescriptionStyleModel",
          "model_module_version": "1.5.0",
          "state": {
            "_model_module": "@jupyter-widgets/controls",
            "_model_module_version": "1.5.0",
            "_model_name": "DescriptionStyleModel",
            "_view_count": null,
            "_view_module": "@jupyter-widgets/base",
            "_view_module_version": "1.2.0",
            "_view_name": "StyleView",
            "description_width": ""
          }
        },
        "a86023707dde4baf81a7d40c8cc6057d": {
          "model_module": "@jupyter-widgets/base",
          "model_name": "LayoutModel",
          "model_module_version": "1.2.0",
          "state": {
            "_model_module": "@jupyter-widgets/base",
            "_model_module_version": "1.2.0",
            "_model_name": "LayoutModel",
            "_view_count": null,
            "_view_module": "@jupyter-widgets/base",
            "_view_module_version": "1.2.0",
            "_view_name": "LayoutView",
            "align_content": null,
            "align_items": null,
            "align_self": null,
            "border": null,
            "bottom": null,
            "display": null,
            "flex": null,
            "flex_flow": null,
            "grid_area": null,
            "grid_auto_columns": null,
            "grid_auto_flow": null,
            "grid_auto_rows": null,
            "grid_column": null,
            "grid_gap": null,
            "grid_row": null,
            "grid_template_areas": null,
            "grid_template_columns": null,
            "grid_template_rows": null,
            "height": null,
            "justify_content": null,
            "justify_items": null,
            "left": null,
            "margin": null,
            "max_height": null,
            "max_width": null,
            "min_height": null,
            "min_width": null,
            "object_fit": null,
            "object_position": null,
            "order": null,
            "overflow": null,
            "overflow_x": null,
            "overflow_y": null,
            "padding": null,
            "right": null,
            "top": null,
            "visibility": null,
            "width": null
          }
        },
        "893a0e97f241454dbbd18248cb4bd9e7": {
          "model_module": "@jupyter-widgets/controls",
          "model_name": "DescriptionStyleModel",
          "model_module_version": "1.5.0",
          "state": {
            "_model_module": "@jupyter-widgets/controls",
            "_model_module_version": "1.5.0",
            "_model_name": "DescriptionStyleModel",
            "_view_count": null,
            "_view_module": "@jupyter-widgets/base",
            "_view_module_version": "1.2.0",
            "_view_name": "StyleView",
            "description_width": ""
          }
        },
        "6bbfcd3c6f744e04a09fbfb4566a29a4": {
          "model_module": "@jupyter-widgets/base",
          "model_name": "LayoutModel",
          "model_module_version": "1.2.0",
          "state": {
            "_model_module": "@jupyter-widgets/base",
            "_model_module_version": "1.2.0",
            "_model_name": "LayoutModel",
            "_view_count": null,
            "_view_module": "@jupyter-widgets/base",
            "_view_module_version": "1.2.0",
            "_view_name": "LayoutView",
            "align_content": null,
            "align_items": null,
            "align_self": null,
            "border": null,
            "bottom": null,
            "display": null,
            "flex": null,
            "flex_flow": null,
            "grid_area": null,
            "grid_auto_columns": null,
            "grid_auto_flow": null,
            "grid_auto_rows": null,
            "grid_column": null,
            "grid_gap": null,
            "grid_row": null,
            "grid_template_areas": null,
            "grid_template_columns": null,
            "grid_template_rows": null,
            "height": null,
            "justify_content": null,
            "justify_items": null,
            "left": null,
            "margin": null,
            "max_height": null,
            "max_width": null,
            "min_height": null,
            "min_width": null,
            "object_fit": null,
            "object_position": null,
            "order": null,
            "overflow": null,
            "overflow_x": null,
            "overflow_y": null,
            "padding": null,
            "right": null,
            "top": null,
            "visibility": null,
            "width": null
          }
        },
        "6e06d1dc64514c14a45efd99f7b5922c": {
          "model_module": "@jupyter-widgets/controls",
          "model_name": "ButtonStyleModel",
          "model_module_version": "1.5.0",
          "state": {
            "_model_module": "@jupyter-widgets/controls",
            "_model_module_version": "1.5.0",
            "_model_name": "ButtonStyleModel",
            "_view_count": null,
            "_view_module": "@jupyter-widgets/base",
            "_view_module_version": "1.2.0",
            "_view_name": "StyleView",
            "button_color": null,
            "font_weight": ""
          }
        },
        "8168544f1be0429682665292af626670": {
          "model_module": "@jupyter-widgets/base",
          "model_name": "LayoutModel",
          "model_module_version": "1.2.0",
          "state": {
            "_model_module": "@jupyter-widgets/base",
            "_model_module_version": "1.2.0",
            "_model_name": "LayoutModel",
            "_view_count": null,
            "_view_module": "@jupyter-widgets/base",
            "_view_module_version": "1.2.0",
            "_view_name": "LayoutView",
            "align_content": null,
            "align_items": null,
            "align_self": null,
            "border": null,
            "bottom": null,
            "display": null,
            "flex": null,
            "flex_flow": null,
            "grid_area": null,
            "grid_auto_columns": null,
            "grid_auto_flow": null,
            "grid_auto_rows": null,
            "grid_column": null,
            "grid_gap": null,
            "grid_row": null,
            "grid_template_areas": null,
            "grid_template_columns": null,
            "grid_template_rows": null,
            "height": null,
            "justify_content": null,
            "justify_items": null,
            "left": null,
            "margin": null,
            "max_height": null,
            "max_width": null,
            "min_height": null,
            "min_width": null,
            "object_fit": null,
            "object_position": null,
            "order": null,
            "overflow": null,
            "overflow_x": null,
            "overflow_y": null,
            "padding": null,
            "right": null,
            "top": null,
            "visibility": null,
            "width": null
          }
        },
        "bae7d8ec1de74243b6c3a5512656ab91": {
          "model_module": "@jupyter-widgets/controls",
          "model_name": "DescriptionStyleModel",
          "model_module_version": "1.5.0",
          "state": {
            "_model_module": "@jupyter-widgets/controls",
            "_model_module_version": "1.5.0",
            "_model_name": "DescriptionStyleModel",
            "_view_count": null,
            "_view_module": "@jupyter-widgets/base",
            "_view_module_version": "1.2.0",
            "_view_name": "StyleView",
            "description_width": ""
          }
        }
      }
    }
  },
  "nbformat_minor": 5,
  "nbformat": 4,
  "cells": [
    {
      "cell_type": "markdown",
      "metadata": {
        "id": "view-in-github",
        "colab_type": "text"
      },
      "source": [
        "<a href=\"https://colab.research.google.com/github/Ayaaba-Fatawu-Sumaila/Machine-Learning-Journey/blob/main/Home_price_prediction.ipynb\" target=\"_parent\"><img src=\"https://colab.research.google.com/assets/colab-badge.svg\" alt=\"Open In Colab\"/></a>"
      ]
    },
    {
      "source": [
        "# IMPORTANT: SOME KAGGLE DATA SOURCES ARE PRIVATE\n",
        "# RUN THIS CELL IN ORDER TO IMPORT YOUR KAGGLE DATA SOURCES.\n",
        "import kagglehub\n",
        "kagglehub.login()\n"
      ],
      "metadata": {
        "id": "kjSKelKrYTn7",
        "outputId": "6d8785ba-192a-41cd-ac67-6e8086e7257c",
        "colab": {
          "base_uri": "https://localhost:8080/",
          "height": 273,
          "referenced_widgets": [
            "72f659f9e7af4cacaf9553d6f01aee53",
            "e70660c7464243d8ac318629086e0672",
            "326f2ac6063b486d85c7573c654cba18",
            "9d0276925ed34d5392a3dabb22faa768",
            "6625f18e9da149618bbb38634b61e1e9",
            "71db3db16800419eb2e52fa4948b043a",
            "e24e6d452e86482da8ff07c7dedea99a",
            "c554f103e6a743349fc66ab81270fde2",
            "1df7fd52eb1a498192e6c7924357dbee",
            "4c8a264040ad457696b7e0efc49854cf",
            "959a320dd3c2413abac7a35b96c88202",
            "a86023707dde4baf81a7d40c8cc6057d",
            "893a0e97f241454dbbd18248cb4bd9e7",
            "6bbfcd3c6f744e04a09fbfb4566a29a4",
            "6e06d1dc64514c14a45efd99f7b5922c",
            "8168544f1be0429682665292af626670",
            "bae7d8ec1de74243b6c3a5512656ab91"
          ]
        }
      },
      "cell_type": "code",
      "outputs": [
        {
          "output_type": "display_data",
          "data": {
            "text/plain": [
              "VBox(children=(HTML(value='<center> <img\\nsrc=https://www.kaggle.com/static/images/site-logo.png\\nalt=\\'Kaggle…"
            ],
            "application/vnd.jupyter.widget-view+json": {
              "version_major": 2,
              "version_minor": 0,
              "model_id": "72f659f9e7af4cacaf9553d6f01aee53"
            }
          },
          "metadata": {}
        }
      ],
      "execution_count": 1,
      "id": "kjSKelKrYTn7"
    },
    {
      "source": [
        "# IMPORTANT: RUN THIS CELL IN ORDER TO IMPORT YOUR KAGGLE DATA SOURCES,\n",
        "# THEN FEEL FREE TO DELETE THIS CELL.\n",
        "# NOTE: THIS NOTEBOOK ENVIRONMENT DIFFERS FROM KAGGLE'S PYTHON\n",
        "# ENVIRONMENT SO THERE MAY BE MISSING LIBRARIES USED BY YOUR\n",
        "# NOTEBOOK.\n",
        "\n",
        "rubyfath_my_files_path = kagglehub.dataset_download('rubyfath/my-files')\n",
        "\n",
        "print('Data source import complete.')\n"
      ],
      "metadata": {
        "id": "bpe3A7GHYTn8",
        "outputId": "fa743d8f-e4d9-4e76-dd11-1c210c23177d",
        "colab": {
          "base_uri": "https://localhost:8080/",
          "height": 478
        }
      },
      "cell_type": "code",
      "outputs": [
        {
          "output_type": "error",
          "ename": "KaggleApiHTTPError",
          "evalue": "403 Client Error.\n\nYou don't have permission to access resource at URL: https://www.kaggle.com/datasets/rubyfath/my-files. The server reported the following issues: Permission 'datasets.get' was denied\nPlease make sure you are authenticated if you are trying to access a private resource or a resource requiring consent.",
          "traceback": [
            "\u001b[0;31m---------------------------------------------------------------------------\u001b[0m",
            "\u001b[0;31mHTTPError\u001b[0m                                 Traceback (most recent call last)",
            "\u001b[0;32m/usr/local/lib/python3.11/dist-packages/kagglehub/exceptions.py\u001b[0m in \u001b[0;36mkaggle_api_raise_for_status\u001b[0;34m(response, resource_handle)\u001b[0m\n\u001b[1;32m     65\u001b[0m     \u001b[0;32mtry\u001b[0m\u001b[0;34m:\u001b[0m\u001b[0;34m\u001b[0m\u001b[0;34m\u001b[0m\u001b[0m\n\u001b[0;32m---> 66\u001b[0;31m         \u001b[0mresponse\u001b[0m\u001b[0;34m.\u001b[0m\u001b[0mraise_for_status\u001b[0m\u001b[0;34m(\u001b[0m\u001b[0;34m)\u001b[0m\u001b[0;34m\u001b[0m\u001b[0;34m\u001b[0m\u001b[0m\n\u001b[0m\u001b[1;32m     67\u001b[0m     \u001b[0;32mexcept\u001b[0m \u001b[0mrequests\u001b[0m\u001b[0;34m.\u001b[0m\u001b[0mHTTPError\u001b[0m \u001b[0;32mas\u001b[0m \u001b[0me\u001b[0m\u001b[0;34m:\u001b[0m\u001b[0;34m\u001b[0m\u001b[0;34m\u001b[0m\u001b[0m\n",
            "\u001b[0;32m/usr/local/lib/python3.11/dist-packages/requests/models.py\u001b[0m in \u001b[0;36mraise_for_status\u001b[0;34m(self)\u001b[0m\n\u001b[1;32m   1023\u001b[0m         \u001b[0;32mif\u001b[0m \u001b[0mhttp_error_msg\u001b[0m\u001b[0;34m:\u001b[0m\u001b[0;34m\u001b[0m\u001b[0;34m\u001b[0m\u001b[0m\n\u001b[0;32m-> 1024\u001b[0;31m             \u001b[0;32mraise\u001b[0m \u001b[0mHTTPError\u001b[0m\u001b[0;34m(\u001b[0m\u001b[0mhttp_error_msg\u001b[0m\u001b[0;34m,\u001b[0m \u001b[0mresponse\u001b[0m\u001b[0;34m=\u001b[0m\u001b[0mself\u001b[0m\u001b[0;34m)\u001b[0m\u001b[0;34m\u001b[0m\u001b[0;34m\u001b[0m\u001b[0m\n\u001b[0m\u001b[1;32m   1025\u001b[0m \u001b[0;34m\u001b[0m\u001b[0m\n",
            "\u001b[0;31mHTTPError\u001b[0m: 403 Client Error: Forbidden for url: https://www.kaggle.com/api/v1/datasets/view/rubyfath/my-files",
            "\nThe above exception was the direct cause of the following exception:\n",
            "\u001b[0;31mKaggleApiHTTPError\u001b[0m                        Traceback (most recent call last)",
            "\u001b[0;32m<ipython-input-2-e52e1e11e4bd>\u001b[0m in \u001b[0;36m<cell line: 0>\u001b[0;34m()\u001b[0m\n\u001b[1;32m      5\u001b[0m \u001b[0;31m# NOTEBOOK.\u001b[0m\u001b[0;34m\u001b[0m\u001b[0;34m\u001b[0m\u001b[0m\n\u001b[1;32m      6\u001b[0m \u001b[0;34m\u001b[0m\u001b[0m\n\u001b[0;32m----> 7\u001b[0;31m \u001b[0mrubyfath_my_files_path\u001b[0m \u001b[0;34m=\u001b[0m \u001b[0mkagglehub\u001b[0m\u001b[0;34m.\u001b[0m\u001b[0mdataset_download\u001b[0m\u001b[0;34m(\u001b[0m\u001b[0;34m'rubyfath/my-files'\u001b[0m\u001b[0;34m)\u001b[0m\u001b[0;34m\u001b[0m\u001b[0;34m\u001b[0m\u001b[0m\n\u001b[0m\u001b[1;32m      8\u001b[0m \u001b[0;34m\u001b[0m\u001b[0m\n\u001b[1;32m      9\u001b[0m \u001b[0mprint\u001b[0m\u001b[0;34m(\u001b[0m\u001b[0;34m'Data source import complete.'\u001b[0m\u001b[0;34m)\u001b[0m\u001b[0;34m\u001b[0m\u001b[0;34m\u001b[0m\u001b[0m\n",
            "\u001b[0;32m/usr/local/lib/python3.11/dist-packages/kagglehub/datasets.py\u001b[0m in \u001b[0;36mdataset_download\u001b[0;34m(handle, path, force_download)\u001b[0m\n\u001b[1;32m     33\u001b[0m     \u001b[0mh\u001b[0m \u001b[0;34m=\u001b[0m \u001b[0mparse_dataset_handle\u001b[0m\u001b[0;34m(\u001b[0m\u001b[0mhandle\u001b[0m\u001b[0;34m)\u001b[0m\u001b[0;34m\u001b[0m\u001b[0;34m\u001b[0m\u001b[0m\n\u001b[1;32m     34\u001b[0m     \u001b[0mlogger\u001b[0m\u001b[0;34m.\u001b[0m\u001b[0minfo\u001b[0m\u001b[0;34m(\u001b[0m\u001b[0;34mf\"Downloading Dataset: {h.to_url()} ...\"\u001b[0m\u001b[0;34m,\u001b[0m \u001b[0mextra\u001b[0m\u001b[0;34m=\u001b[0m\u001b[0;34m{\u001b[0m\u001b[0;34m**\u001b[0m\u001b[0mEXTRA_CONSOLE_BLOCK\u001b[0m\u001b[0;34m}\u001b[0m\u001b[0;34m)\u001b[0m\u001b[0;34m\u001b[0m\u001b[0;34m\u001b[0m\u001b[0m\n\u001b[0;32m---> 35\u001b[0;31m     \u001b[0mpath\u001b[0m\u001b[0;34m,\u001b[0m \u001b[0m_\u001b[0m \u001b[0;34m=\u001b[0m \u001b[0mregistry\u001b[0m\u001b[0;34m.\u001b[0m\u001b[0mdataset_resolver\u001b[0m\u001b[0;34m(\u001b[0m\u001b[0mh\u001b[0m\u001b[0;34m,\u001b[0m \u001b[0mpath\u001b[0m\u001b[0;34m,\u001b[0m \u001b[0mforce_download\u001b[0m\u001b[0;34m=\u001b[0m\u001b[0mforce_download\u001b[0m\u001b[0;34m)\u001b[0m\u001b[0;34m\u001b[0m\u001b[0;34m\u001b[0m\u001b[0m\n\u001b[0m\u001b[1;32m     36\u001b[0m     \u001b[0;32mreturn\u001b[0m \u001b[0mpath\u001b[0m\u001b[0;34m\u001b[0m\u001b[0;34m\u001b[0m\u001b[0m\n\u001b[1;32m     37\u001b[0m \u001b[0;34m\u001b[0m\u001b[0m\n",
            "\u001b[0;32m/usr/local/lib/python3.11/dist-packages/kagglehub/registry.py\u001b[0m in \u001b[0;36m__call__\u001b[0;34m(self, *args, **kwargs)\u001b[0m\n\u001b[1;32m     26\u001b[0m         \u001b[0;32mfor\u001b[0m \u001b[0mimpl\u001b[0m \u001b[0;32min\u001b[0m \u001b[0mreversed\u001b[0m\u001b[0;34m(\u001b[0m\u001b[0mself\u001b[0m\u001b[0;34m.\u001b[0m\u001b[0m_impls\u001b[0m\u001b[0;34m)\u001b[0m\u001b[0;34m:\u001b[0m\u001b[0;34m\u001b[0m\u001b[0;34m\u001b[0m\u001b[0m\n\u001b[1;32m     27\u001b[0m             \u001b[0;32mif\u001b[0m \u001b[0mimpl\u001b[0m\u001b[0;34m.\u001b[0m\u001b[0mis_supported\u001b[0m\u001b[0;34m(\u001b[0m\u001b[0;34m*\u001b[0m\u001b[0margs\u001b[0m\u001b[0;34m,\u001b[0m \u001b[0;34m**\u001b[0m\u001b[0mkwargs\u001b[0m\u001b[0;34m)\u001b[0m\u001b[0;34m:\u001b[0m\u001b[0;34m\u001b[0m\u001b[0;34m\u001b[0m\u001b[0m\n\u001b[0;32m---> 28\u001b[0;31m                 \u001b[0;32mreturn\u001b[0m \u001b[0mimpl\u001b[0m\u001b[0;34m(\u001b[0m\u001b[0;34m*\u001b[0m\u001b[0margs\u001b[0m\u001b[0;34m,\u001b[0m \u001b[0;34m**\u001b[0m\u001b[0mkwargs\u001b[0m\u001b[0;34m)\u001b[0m\u001b[0;34m\u001b[0m\u001b[0;34m\u001b[0m\u001b[0m\n\u001b[0m\u001b[1;32m     29\u001b[0m             \u001b[0;32melse\u001b[0m\u001b[0;34m:\u001b[0m\u001b[0;34m\u001b[0m\u001b[0;34m\u001b[0m\u001b[0m\n\u001b[1;32m     30\u001b[0m                 \u001b[0mfails\u001b[0m\u001b[0;34m.\u001b[0m\u001b[0mappend\u001b[0m\u001b[0;34m(\u001b[0m\u001b[0mtype\u001b[0m\u001b[0;34m(\u001b[0m\u001b[0mimpl\u001b[0m\u001b[0;34m)\u001b[0m\u001b[0;34m.\u001b[0m\u001b[0m__name__\u001b[0m\u001b[0;34m)\u001b[0m\u001b[0;34m\u001b[0m\u001b[0;34m\u001b[0m\u001b[0m\n",
            "\u001b[0;32m/usr/local/lib/python3.11/dist-packages/kagglehub/resolver.py\u001b[0m in \u001b[0;36m__call__\u001b[0;34m(self, handle, path, force_download)\u001b[0m\n\u001b[1;32m     27\u001b[0m             \u001b[0mSome\u001b[0m \u001b[0mcases\u001b[0m \u001b[0mwhere\u001b[0m \u001b[0mversion\u001b[0m \u001b[0mnumber\u001b[0m \u001b[0mmight\u001b[0m \u001b[0mbe\u001b[0m \u001b[0mmissing\u001b[0m\u001b[0;34m:\u001b[0m \u001b[0mCompetition\u001b[0m \u001b[0mdatasource\u001b[0m\u001b[0;34m,\u001b[0m \u001b[0mAPI\u001b[0m\u001b[0;34m-\u001b[0m\u001b[0mbased\u001b[0m \u001b[0mmodels\u001b[0m\u001b[0;34m.\u001b[0m\u001b[0;34m\u001b[0m\u001b[0;34m\u001b[0m\u001b[0m\n\u001b[1;32m     28\u001b[0m         \"\"\"\n\u001b[0;32m---> 29\u001b[0;31m         \u001b[0mpath\u001b[0m\u001b[0;34m,\u001b[0m \u001b[0mversion\u001b[0m \u001b[0;34m=\u001b[0m \u001b[0mself\u001b[0m\u001b[0;34m.\u001b[0m\u001b[0m_resolve\u001b[0m\u001b[0;34m(\u001b[0m\u001b[0mhandle\u001b[0m\u001b[0;34m,\u001b[0m \u001b[0mpath\u001b[0m\u001b[0;34m,\u001b[0m \u001b[0mforce_download\u001b[0m\u001b[0;34m=\u001b[0m\u001b[0mforce_download\u001b[0m\u001b[0;34m)\u001b[0m\u001b[0;34m\u001b[0m\u001b[0;34m\u001b[0m\u001b[0m\n\u001b[0m\u001b[1;32m     30\u001b[0m \u001b[0;34m\u001b[0m\u001b[0m\n\u001b[1;32m     31\u001b[0m         \u001b[0;31m# Note handles are immutable, so _resolve() could not have altered our reference\u001b[0m\u001b[0;34m\u001b[0m\u001b[0;34m\u001b[0m\u001b[0m\n",
            "\u001b[0;32m/usr/local/lib/python3.11/dist-packages/kagglehub/http_resolver.py\u001b[0m in \u001b[0;36m_resolve\u001b[0;34m(self, h, path, force_download)\u001b[0m\n\u001b[1;32m    105\u001b[0m \u001b[0;34m\u001b[0m\u001b[0m\n\u001b[1;32m    106\u001b[0m         \u001b[0;32mif\u001b[0m \u001b[0;32mnot\u001b[0m \u001b[0mh\u001b[0m\u001b[0;34m.\u001b[0m\u001b[0mis_versioned\u001b[0m\u001b[0;34m(\u001b[0m\u001b[0;34m)\u001b[0m\u001b[0;34m:\u001b[0m\u001b[0;34m\u001b[0m\u001b[0;34m\u001b[0m\u001b[0m\n\u001b[0;32m--> 107\u001b[0;31m             \u001b[0mh\u001b[0m \u001b[0;34m=\u001b[0m \u001b[0mh\u001b[0m\u001b[0;34m.\u001b[0m\u001b[0mwith_version\u001b[0m\u001b[0;34m(\u001b[0m\u001b[0m_get_current_version\u001b[0m\u001b[0;34m(\u001b[0m\u001b[0mapi_client\u001b[0m\u001b[0;34m,\u001b[0m \u001b[0mh\u001b[0m\u001b[0;34m)\u001b[0m\u001b[0;34m)\u001b[0m\u001b[0;34m\u001b[0m\u001b[0;34m\u001b[0m\u001b[0m\n\u001b[0m\u001b[1;32m    108\u001b[0m \u001b[0;34m\u001b[0m\u001b[0m\n\u001b[1;32m    109\u001b[0m         \u001b[0mdataset_path\u001b[0m \u001b[0;34m=\u001b[0m \u001b[0mload_from_cache\u001b[0m\u001b[0;34m(\u001b[0m\u001b[0mh\u001b[0m\u001b[0;34m,\u001b[0m \u001b[0mpath\u001b[0m\u001b[0;34m)\u001b[0m\u001b[0;34m\u001b[0m\u001b[0;34m\u001b[0m\u001b[0m\n",
            "\u001b[0;32m/usr/local/lib/python3.11/dist-packages/kagglehub/http_resolver.py\u001b[0m in \u001b[0;36m_get_current_version\u001b[0;34m(api_client, h)\u001b[0m\n\u001b[1;32m    288\u001b[0m \u001b[0;34m\u001b[0m\u001b[0m\n\u001b[1;32m    289\u001b[0m     \u001b[0;32melif\u001b[0m \u001b[0misinstance\u001b[0m\u001b[0;34m(\u001b[0m\u001b[0mh\u001b[0m\u001b[0;34m,\u001b[0m \u001b[0mDatasetHandle\u001b[0m\u001b[0;34m)\u001b[0m\u001b[0;34m:\u001b[0m\u001b[0;34m\u001b[0m\u001b[0;34m\u001b[0m\u001b[0m\n\u001b[0;32m--> 290\u001b[0;31m         \u001b[0mjson_response\u001b[0m \u001b[0;34m=\u001b[0m \u001b[0mapi_client\u001b[0m\u001b[0;34m.\u001b[0m\u001b[0mget\u001b[0m\u001b[0;34m(\u001b[0m\u001b[0m_build_get_dataset_url_path\u001b[0m\u001b[0;34m(\u001b[0m\u001b[0mh\u001b[0m\u001b[0;34m)\u001b[0m\u001b[0;34m,\u001b[0m \u001b[0mh\u001b[0m\u001b[0;34m)\u001b[0m\u001b[0;34m\u001b[0m\u001b[0;34m\u001b[0m\u001b[0m\n\u001b[0m\u001b[1;32m    291\u001b[0m         \u001b[0;32mif\u001b[0m \u001b[0mDATASET_CURRENT_VERSION_FIELD\u001b[0m \u001b[0;32mnot\u001b[0m \u001b[0;32min\u001b[0m \u001b[0mjson_response\u001b[0m\u001b[0;34m:\u001b[0m\u001b[0;34m\u001b[0m\u001b[0;34m\u001b[0m\u001b[0m\n\u001b[1;32m    292\u001b[0m             \u001b[0mmsg\u001b[0m \u001b[0;34m=\u001b[0m \u001b[0;34mf\"Invalid GetDataset API response. Expected to include a {DATASET_CURRENT_VERSION_FIELD} field\"\u001b[0m\u001b[0;34m\u001b[0m\u001b[0;34m\u001b[0m\u001b[0m\n",
            "\u001b[0;32m/usr/local/lib/python3.11/dist-packages/kagglehub/clients.py\u001b[0m in \u001b[0;36mget\u001b[0;34m(self, path, resource_handle)\u001b[0m\n\u001b[1;32m    137\u001b[0m             \u001b[0mtimeout\u001b[0m\u001b[0;34m=\u001b[0m\u001b[0;34m(\u001b[0m\u001b[0mDEFAULT_CONNECT_TIMEOUT\u001b[0m\u001b[0;34m,\u001b[0m \u001b[0mDEFAULT_READ_TIMEOUT\u001b[0m\u001b[0;34m)\u001b[0m\u001b[0;34m,\u001b[0m\u001b[0;34m\u001b[0m\u001b[0;34m\u001b[0m\u001b[0m\n\u001b[1;32m    138\u001b[0m         ) as response:\n\u001b[0;32m--> 139\u001b[0;31m             \u001b[0mkaggle_api_raise_for_status\u001b[0m\u001b[0;34m(\u001b[0m\u001b[0mresponse\u001b[0m\u001b[0;34m,\u001b[0m \u001b[0mresource_handle\u001b[0m\u001b[0;34m)\u001b[0m\u001b[0;34m\u001b[0m\u001b[0;34m\u001b[0m\u001b[0m\n\u001b[0m\u001b[1;32m    140\u001b[0m             \u001b[0mself\u001b[0m\u001b[0;34m.\u001b[0m\u001b[0m_check_for_version_update\u001b[0m\u001b[0;34m(\u001b[0m\u001b[0mresponse\u001b[0m\u001b[0;34m)\u001b[0m\u001b[0;34m\u001b[0m\u001b[0;34m\u001b[0m\u001b[0m\n\u001b[1;32m    141\u001b[0m             \u001b[0;32mreturn\u001b[0m \u001b[0mresponse\u001b[0m\u001b[0;34m.\u001b[0m\u001b[0mjson\u001b[0m\u001b[0;34m(\u001b[0m\u001b[0;34m)\u001b[0m\u001b[0;34m\u001b[0m\u001b[0;34m\u001b[0m\u001b[0m\n",
            "\u001b[0;32m/usr/local/lib/python3.11/dist-packages/kagglehub/exceptions.py\u001b[0m in \u001b[0;36mkaggle_api_raise_for_status\u001b[0;34m(response, resource_handle)\u001b[0m\n\u001b[1;32m    104\u001b[0m \u001b[0;34m\u001b[0m\u001b[0m\n\u001b[1;32m    105\u001b[0m         \u001b[0;31m# Default handling\u001b[0m\u001b[0;34m\u001b[0m\u001b[0;34m\u001b[0m\u001b[0m\n\u001b[0;32m--> 106\u001b[0;31m         \u001b[0;32mraise\u001b[0m \u001b[0mKaggleApiHTTPError\u001b[0m\u001b[0;34m(\u001b[0m\u001b[0mmessage\u001b[0m\u001b[0;34m,\u001b[0m \u001b[0mresponse\u001b[0m\u001b[0;34m=\u001b[0m\u001b[0mresponse\u001b[0m\u001b[0;34m)\u001b[0m \u001b[0;32mfrom\u001b[0m \u001b[0me\u001b[0m\u001b[0;34m\u001b[0m\u001b[0;34m\u001b[0m\u001b[0m\n\u001b[0m\u001b[1;32m    107\u001b[0m \u001b[0;34m\u001b[0m\u001b[0m\n\u001b[1;32m    108\u001b[0m \u001b[0;34m\u001b[0m\u001b[0m\n",
            "\u001b[0;31mKaggleApiHTTPError\u001b[0m: 403 Client Error.\n\nYou don't have permission to access resource at URL: https://www.kaggle.com/datasets/rubyfath/my-files. The server reported the following issues: Permission 'datasets.get' was denied\nPlease make sure you are authenticated if you are trying to access a private resource or a resource requiring consent."
          ]
        }
      ],
      "execution_count": 2,
      "id": "bpe3A7GHYTn8"
    },
    {
      "cell_type": "markdown",
      "source": [],
      "metadata": {
        "id": "giocrcBItCYL"
      },
      "id": "giocrcBItCYL"
    },
    {
      "cell_type": "markdown",
      "source": [],
      "metadata": {
        "id": "qNlZ8ZxktDBb"
      },
      "id": "qNlZ8ZxktDBb"
    },
    {
      "cell_type": "code",
      "source": [],
      "metadata": {
        "id": "iMS_x0NLtDcC"
      },
      "id": "iMS_x0NLtDcC",
      "execution_count": null,
      "outputs": []
    },
    {
      "id": "3b9d70bd-580c-45af-932d-d9fde09a5cde",
      "cell_type": "code",
      "source": [
        "#Importing libraries for dataframes,scientific computation and visualization\n",
        "import pandas as pd\n",
        "import seaborn as sns\n",
        "import matplotlib.pyplot as plt\n",
        "from scipy.stats import zscore\n",
        "import numpy as np\n",
        "import warnings"
      ],
      "metadata": {
        "trusted": true,
        "id": "3b9d70bd-580c-45af-932d-d9fde09a5cde"
      },
      "outputs": [],
      "execution_count": null
    },
    {
      "id": "974516dc-0852-4c07-8a91-2f140199cefd",
      "cell_type": "code",
      "source": [
        "warnings.filterwarnings('ignore') #Filtering outputs for cleaned results"
      ],
      "metadata": {
        "trusted": true,
        "id": "974516dc-0852-4c07-8a91-2f140199cefd"
      },
      "outputs": [],
      "execution_count": null
    },
    {
      "id": "22182e9e-a2b6-4030-9ef3-8032f0f78505",
      "cell_type": "code",
      "source": [
        "df = pd.read_csv(\"house_prices.csv\") #reading the data into 'df' dataframes"
      ],
      "metadata": {
        "trusted": true,
        "id": "22182e9e-a2b6-4030-9ef3-8032f0f78505"
      },
      "outputs": [],
      "execution_count": null
    },
    {
      "id": "6206e190-534b-4e12-b312-5edfb4460ff4",
      "cell_type": "code",
      "source": [],
      "metadata": {
        "trusted": true,
        "id": "6206e190-534b-4e12-b312-5edfb4460ff4"
      },
      "outputs": [],
      "execution_count": null
    },
    {
      "id": "230ccf60-b39b-443d-b12d-5fa9f1278137",
      "cell_type": "markdown",
      "source": [
        "## EXPLORATORY DATA ANALYSIS AND FEATURE ENGINEERING"
      ],
      "metadata": {
        "id": "230ccf60-b39b-443d-b12d-5fa9f1278137"
      }
    },
    {
      "id": "e8f0224b-0874-4cf9-ab49-c1d289b0fc29",
      "cell_type": "code",
      "source": [],
      "metadata": {
        "id": "e8f0224b-0874-4cf9-ab49-c1d289b0fc29"
      },
      "outputs": [],
      "execution_count": null
    },
    {
      "id": "4d25842c-4aa2-4a6b-90fd-b4c9b2a70312",
      "cell_type": "code",
      "source": [
        "df.shape #Checking for the number of rows and columns in my dataframe"
      ],
      "metadata": {
        "id": "4d25842c-4aa2-4a6b-90fd-b4c9b2a70312"
      },
      "outputs": [],
      "execution_count": null
    },
    {
      "id": "77f9b9c8-3106-46de-b6d9-49ad31d89254",
      "cell_type": "code",
      "source": [
        "df.sample(2) #Checking for 2 random sample rows of my dataframe"
      ],
      "metadata": {
        "id": "77f9b9c8-3106-46de-b6d9-49ad31d89254"
      },
      "outputs": [],
      "execution_count": null
    },
    {
      "id": "281d4153-f4fa-4878-bcf2-e4086ce67dae",
      "cell_type": "code",
      "source": [
        "df.info() #checking for my dataframes information"
      ],
      "metadata": {
        "id": "281d4153-f4fa-4878-bcf2-e4086ce67dae"
      },
      "outputs": [],
      "execution_count": null
    },
    {
      "id": "179bafbf-b713-4b4c-9249-14bfabde1412",
      "cell_type": "code",
      "source": [],
      "metadata": {
        "id": "179bafbf-b713-4b4c-9249-14bfabde1412"
      },
      "outputs": [],
      "execution_count": null
    },
    {
      "id": "fa50dc1f-82e2-416e-8518-6bfc49715d17",
      "cell_type": "markdown",
      "source": [
        "#### Cleaning and converting the Amount column to a numerical data"
      ],
      "metadata": {
        "id": "fa50dc1f-82e2-416e-8518-6bfc49715d17"
      }
    },
    {
      "id": "694415f0-3cbc-4395-91ea-c0eb203c59f3",
      "cell_type": "code",
      "source": [
        "df[\"Amount(in rupees)\"].unique() #Checking for unique values in the  amount column"
      ],
      "metadata": {
        "id": "694415f0-3cbc-4395-91ea-c0eb203c59f3"
      },
      "outputs": [],
      "execution_count": null
    },
    {
      "id": "03ea7bcf-e4f6-4a06-b1c1-44506a787457",
      "cell_type": "code",
      "source": [
        "#The amount has two different units, Lac and Cr"
      ],
      "metadata": {
        "id": "03ea7bcf-e4f6-4a06-b1c1-44506a787457"
      },
      "outputs": [],
      "execution_count": null
    },
    {
      "id": "047b5460-40d0-4efa-8f6f-fe79cc48c850",
      "cell_type": "code",
      "source": [
        "df[\"Amount(in rupees)\"] = df[\"Amount(in rupees)\"].str.replace(\"Cr\",\"*100\",regex=False)\n",
        "#Replacing and converting Cr to Lac\n",
        "# 100 lac = 1Cr"
      ],
      "metadata": {
        "id": "047b5460-40d0-4efa-8f6f-fe79cc48c850"
      },
      "outputs": [],
      "execution_count": null
    },
    {
      "id": "5de42518-96c9-465a-bfc6-dd5d68c4c22c",
      "cell_type": "code",
      "source": [
        "df[\"Amount(in rupees)\"].unique()\n",
        "#After replacing 100 lac = 1Cr"
      ],
      "metadata": {
        "id": "5de42518-96c9-465a-bfc6-dd5d68c4c22c"
      },
      "outputs": [],
      "execution_count": null
    },
    {
      "id": "cb5f8232-9282-412f-be40-b22caa64de49",
      "cell_type": "code",
      "source": [
        "df[\"Amount(in rupees)\"] = df[\"Amount(in rupees)\"].str.replace(\"Lac\",\"\",regex=False)\n",
        "# Removing Lac from the values"
      ],
      "metadata": {
        "id": "cb5f8232-9282-412f-be40-b22caa64de49"
      },
      "outputs": [],
      "execution_count": null
    },
    {
      "id": "83a42dca-8749-4c4b-9a75-a12b27fa1988",
      "cell_type": "code",
      "source": [
        "df[\"Amount(in rupees)\"].unique()\n",
        "#Current unique values in string"
      ],
      "metadata": {
        "id": "83a42dca-8749-4c4b-9a75-a12b27fa1988"
      },
      "outputs": [],
      "execution_count": null
    },
    {
      "id": "7525973e-c9ba-45db-b40c-e5903a874332",
      "cell_type": "code",
      "source": [],
      "metadata": {
        "id": "7525973e-c9ba-45db-b40c-e5903a874332"
      },
      "outputs": [],
      "execution_count": null
    },
    {
      "id": "2096796f-c678-4dfd-9828-bd185386afd3",
      "cell_type": "code",
      "source": [
        "#Assign the current column of \"Amount(in rupees)\" to amount\n",
        "amount = df[\"Amount(in rupees)\"]"
      ],
      "metadata": {
        "id": "2096796f-c678-4dfd-9828-bd185386afd3"
      },
      "outputs": [],
      "execution_count": null
    },
    {
      "id": "65b20a8f-7f47-4c39-b78d-941bc453a2ce",
      "cell_type": "code",
      "source": [],
      "metadata": {
        "id": "65b20a8f-7f47-4c39-b78d-941bc453a2ce"
      },
      "outputs": [],
      "execution_count": null
    },
    {
      "id": "cb87543c-fe8f-4293-99e2-8c93af3c4c8d",
      "cell_type": "code",
      "source": [
        "#Create empty list to store the evaluated string values to float by using a for loop\n",
        "values = []\n",
        "for i in amount:\n",
        "    try:\n",
        "        values.append(eval(i)) #eval(), function for mathematical calculation for converting string expressions to a folating values\n",
        "    except:\n",
        "        values.append(None) #For exception handling , by appending None if i doesn't exist in amount"
      ],
      "metadata": {
        "id": "cb87543c-fe8f-4293-99e2-8c93af3c4c8d"
      },
      "outputs": [],
      "execution_count": null
    },
    {
      "id": "a03ef3b8-c9eb-40c2-9e86-d5d7feb8d098",
      "cell_type": "code",
      "source": [
        "df[\"Amount(Lac)\"] = values #Assigning the final convertion 'values' to the Amount(Lac) column"
      ],
      "metadata": {
        "id": "a03ef3b8-c9eb-40c2-9e86-d5d7feb8d098"
      },
      "outputs": [],
      "execution_count": null
    },
    {
      "id": "87402883-81f2-4d1d-a584-0d7f107f278b",
      "cell_type": "code",
      "source": [],
      "metadata": {
        "id": "87402883-81f2-4d1d-a584-0d7f107f278b"
      },
      "outputs": [],
      "execution_count": null
    },
    {
      "id": "96238bd2-86d9-45d0-8a03-d8c8590dc4d6",
      "cell_type": "code",
      "source": [
        "df[\"Amount(Lac)\"].unique() #Final amount values in float"
      ],
      "metadata": {
        "id": "96238bd2-86d9-45d0-8a03-d8c8590dc4d6"
      },
      "outputs": [],
      "execution_count": null
    },
    {
      "id": "dda2b4a4-bb36-41a9-a176-9fe8b2740c80",
      "cell_type": "code",
      "source": [
        "#Drop the df[\"Amount(in rupees)\"] column\n",
        "df.drop([\"Amount(in rupees)\"],axis=1,inplace=True)"
      ],
      "metadata": {
        "id": "dda2b4a4-bb36-41a9-a176-9fe8b2740c80"
      },
      "outputs": [],
      "execution_count": null
    },
    {
      "id": "388f7273-3f42-4f23-a767-1f3d97143c3d",
      "cell_type": "code",
      "source": [
        "#Cleaning the price column by converting it from rupees to Lac"
      ],
      "metadata": {
        "id": "388f7273-3f42-4f23-a767-1f3d97143c3d"
      },
      "outputs": [],
      "execution_count": null
    },
    {
      "id": "2a97b680-d6c5-4d94-a82b-c0efa9355998",
      "cell_type": "code",
      "source": [
        "df[\"Price (in rupees)\"].unique()"
      ],
      "metadata": {
        "id": "2a97b680-d6c5-4d94-a82b-c0efa9355998"
      },
      "outputs": [],
      "execution_count": null
    },
    {
      "id": "66b99d6e-cc59-4222-8c90-97662471cb70",
      "cell_type": "code",
      "source": [
        "#Converting the price from rupees to Lac\n",
        "df[\"Price (Lac)\"] = df[\"Price (in rupees)\"]/100_000  #1lac == 100,000rupees"
      ],
      "metadata": {
        "id": "66b99d6e-cc59-4222-8c90-97662471cb70"
      },
      "outputs": [],
      "execution_count": null
    },
    {
      "id": "7ef0879a-cd6a-4525-aa49-7ca1fd1d2ade",
      "cell_type": "code",
      "source": [
        "df[\"Price (Lac)\"].unique()"
      ],
      "metadata": {
        "id": "7ef0879a-cd6a-4525-aa49-7ca1fd1d2ade"
      },
      "outputs": [],
      "execution_count": null
    },
    {
      "id": "71158a8c-c1d2-4c9c-9d9e-f78e381fd66a",
      "cell_type": "code",
      "source": [],
      "metadata": {
        "id": "71158a8c-c1d2-4c9c-9d9e-f78e381fd66a"
      },
      "outputs": [],
      "execution_count": null
    },
    {
      "id": "36d58494-f54e-42c6-985d-6d857adcb929",
      "cell_type": "code",
      "source": [
        "#Drop the \"Price (in rupees)\" column\n",
        "df.drop([\"Price (in rupees)\"],axis=1,inplace=True)"
      ],
      "metadata": {
        "id": "36d58494-f54e-42c6-985d-6d857adcb929"
      },
      "outputs": [],
      "execution_count": null
    },
    {
      "id": "c76c9831-bfa1-4c64-8d94-9f483aca5dc4",
      "cell_type": "code",
      "source": [],
      "metadata": {
        "id": "c76c9831-bfa1-4c64-8d94-9f483aca5dc4"
      },
      "outputs": [],
      "execution_count": null
    },
    {
      "id": "e1258784-b554-4544-8f93-1c36c7bc24aa",
      "cell_type": "markdown",
      "source": [
        "#### Cleaning the Carpet area"
      ],
      "metadata": {
        "id": "e1258784-b554-4544-8f93-1c36c7bc24aa"
      }
    },
    {
      "id": "8b85999a-e337-494a-8c52-0dc55e329813",
      "cell_type": "code",
      "source": [
        "df[\"Carpet Area\"].unique()"
      ],
      "metadata": {
        "id": "8b85999a-e337-494a-8c52-0dc55e329813"
      },
      "outputs": [],
      "execution_count": null
    },
    {
      "id": "45c8738d-5e97-4d08-9dab-4bbe86d483a8",
      "cell_type": "code",
      "source": [
        "df[df[\"Carpet Area\"] == '164 sqyrd'] #Getting the index of the '164 sqyrd' for verification"
      ],
      "metadata": {
        "id": "45c8738d-5e97-4d08-9dab-4bbe86d483a8"
      },
      "outputs": [],
      "execution_count": null
    },
    {
      "id": "f0a16566-3645-49f7-b3d3-131c4d80cd32",
      "cell_type": "markdown",
      "source": [
        "##### Converting the square yard into square feet to have consistent units"
      ],
      "metadata": {
        "id": "f0a16566-3645-49f7-b3d3-131c4d80cd32"
      }
    },
    {
      "id": "3d73e7ea-2d8a-4306-9a96-d25e7d0ff648",
      "cell_type": "code",
      "source": [
        "df[\"Carpet Area\"] = df[\"Carpet Area\"].str.replace(\"sqyrd\",\"*9\",regex=False)\n",
        "#Converting square yard to square feet"
      ],
      "metadata": {
        "id": "3d73e7ea-2d8a-4306-9a96-d25e7d0ff648"
      },
      "outputs": [],
      "execution_count": null
    },
    {
      "id": "9d8036e4-0578-4383-bbf0-b6304b325da8",
      "cell_type": "code",
      "source": [
        "df[\"Carpet Area\"] = df[\"Carpet Area\"].str.replace(\"sqft\",\"\",regex=False).ffill()"
      ],
      "metadata": {
        "id": "9d8036e4-0578-4383-bbf0-b6304b325da8"
      },
      "outputs": [],
      "execution_count": null
    },
    {
      "id": "ff52c1d3-8316-4a7a-9cad-7f9f0ab82360",
      "cell_type": "code",
      "source": [
        "df[\"Carpet Area\"].isnull().sum() #Checking for null values"
      ],
      "metadata": {
        "id": "ff52c1d3-8316-4a7a-9cad-7f9f0ab82360"
      },
      "outputs": [],
      "execution_count": null
    },
    {
      "id": "1eee7bb7-9660-466b-826c-00429263144e",
      "cell_type": "code",
      "source": [
        "carpet = [] #Empty list for storing the converted values"
      ],
      "metadata": {
        "id": "1eee7bb7-9660-466b-826c-00429263144e"
      },
      "outputs": [],
      "execution_count": null
    },
    {
      "id": "b0b2d92f-cce7-4e63-a078-fb4b96cd53dd",
      "cell_type": "code",
      "source": [
        "for u in df[\"Carpet Area\"]:\n",
        "    try:\n",
        "        carpet.append(eval(u))\n",
        "    except:\n",
        "        carpet.append(None)"
      ],
      "metadata": {
        "id": "b0b2d92f-cce7-4e63-a078-fb4b96cd53dd"
      },
      "outputs": [],
      "execution_count": null
    },
    {
      "id": "08a2b1cc-8ce9-4362-84bb-5a16ed266d6f",
      "cell_type": "code",
      "source": [
        "df[\"Carpet_Area_sqft\"] = carpet #assigning it to a new column"
      ],
      "metadata": {
        "id": "08a2b1cc-8ce9-4362-84bb-5a16ed266d6f"
      },
      "outputs": [],
      "execution_count": null
    },
    {
      "id": "e483b476-b1bc-4684-9952-abfbf633b58e",
      "cell_type": "code",
      "source": [
        "#Drop the old column\n",
        "df.drop([\"Carpet Area\"],axis=1,inplace=True)"
      ],
      "metadata": {
        "id": "e483b476-b1bc-4684-9952-abfbf633b58e"
      },
      "outputs": [],
      "execution_count": null
    },
    {
      "id": "43d5a788-28c9-4eae-9f60-af431cf8a68e",
      "cell_type": "code",
      "source": [],
      "metadata": {
        "id": "43d5a788-28c9-4eae-9f60-af431cf8a68e"
      },
      "outputs": [],
      "execution_count": null
    },
    {
      "id": "48074512-abf6-4c59-8df9-658fd172cd60",
      "cell_type": "code",
      "source": [
        "df[\"Carpet_Area_sqft\"][[187488]] #Confirming for 164sqyrd to sqft. 1sqyrd == 9sqft"
      ],
      "metadata": {
        "id": "48074512-abf6-4c59-8df9-658fd172cd60"
      },
      "outputs": [],
      "execution_count": null
    },
    {
      "id": "7c9b7abd-de63-4c2c-8fe1-d27562918e20",
      "cell_type": "code",
      "source": [
        "#Done with the Carpet"
      ],
      "metadata": {
        "id": "7c9b7abd-de63-4c2c-8fe1-d27562918e20"
      },
      "outputs": [],
      "execution_count": null
    },
    {
      "id": "824567f1-d5e5-4200-8521-96df0b0876f1",
      "cell_type": "code",
      "source": [],
      "metadata": {
        "id": "824567f1-d5e5-4200-8521-96df0b0876f1"
      },
      "outputs": [],
      "execution_count": null
    },
    {
      "id": "50b56e52-c8bf-4d73-aaab-67c945be9bcc",
      "cell_type": "markdown",
      "source": [
        "#### Cleaning the Bathroom column"
      ],
      "metadata": {
        "id": "50b56e52-c8bf-4d73-aaab-67c945be9bcc"
      }
    },
    {
      "id": "7822002a-bde9-4bac-8ad0-0e682d7da68f",
      "cell_type": "code",
      "source": [
        "df[\"Bathroom\"].unique() #Checking for unique values in the Bathroom column"
      ],
      "metadata": {
        "id": "7822002a-bde9-4bac-8ad0-0e682d7da68f"
      },
      "outputs": [],
      "execution_count": null
    },
    {
      "id": "a73599c5-1f57-4be0-83e5-9f12720d9769",
      "cell_type": "code",
      "source": [
        "df[\"Bathroom\"].isnull().sum()*100/df.shape[0] #Checking for the percentage of Null values in Bathroom column"
      ],
      "metadata": {
        "id": "a73599c5-1f57-4be0-83e5-9f12720d9769"
      },
      "outputs": [],
      "execution_count": null
    },
    {
      "id": "79f08535-c2ea-40f8-985e-fb815246c9f9",
      "cell_type": "code",
      "source": [
        "df.groupby(\"Bathroom\")[\"Price (Lac)\"].value_counts()[:10]"
      ],
      "metadata": {
        "id": "79f08535-c2ea-40f8-985e-fb815246c9f9"
      },
      "outputs": [],
      "execution_count": null
    },
    {
      "id": "ddd90a5a-3241-4852-b5b3-c21a2f2ee699",
      "cell_type": "code",
      "source": [
        "df[\"Bathroom\"] = df[\"Bathroom\"].fillna(method='ffill') #Using forward fill method for handling Null values"
      ],
      "metadata": {
        "id": "ddd90a5a-3241-4852-b5b3-c21a2f2ee699"
      },
      "outputs": [],
      "execution_count": null
    },
    {
      "id": "7a379f73-1714-40a8-9687-545e66efea2e",
      "cell_type": "code",
      "source": [
        "df[\"Bathroom\"].unique()"
      ],
      "metadata": {
        "id": "7a379f73-1714-40a8-9687-545e66efea2e"
      },
      "outputs": [],
      "execution_count": null
    },
    {
      "id": "6b9212a6-976f-4426-a46b-d098743ced14",
      "cell_type": "code",
      "source": [
        "df[\"Bathroom\"] = df[\"Bathroom\"].str.extract('(\\d+)').astype(int) #Extracting the numerical values and converting to discrete values"
      ],
      "metadata": {
        "id": "6b9212a6-976f-4426-a46b-d098743ced14"
      },
      "outputs": [],
      "execution_count": null
    },
    {
      "id": "ece890f8-554e-42e6-b574-fa86377e0918",
      "cell_type": "code",
      "source": [
        "df[\"Bathroom\"].unique()"
      ],
      "metadata": {
        "id": "ece890f8-554e-42e6-b574-fa86377e0918"
      },
      "outputs": [],
      "execution_count": null
    },
    {
      "id": "5fa1e85b-9751-41a8-bcd6-820110e8199c",
      "cell_type": "code",
      "source": [
        "#Done with the Bathroom cleaning"
      ],
      "metadata": {
        "id": "5fa1e85b-9751-41a8-bcd6-820110e8199c"
      },
      "outputs": [],
      "execution_count": null
    },
    {
      "id": "fab1b3be-c15e-4340-b238-9490864dd8f3",
      "cell_type": "code",
      "source": [],
      "metadata": {
        "id": "fab1b3be-c15e-4340-b238-9490864dd8f3"
      },
      "outputs": [],
      "execution_count": null
    },
    {
      "id": "1e77ea6e-434d-4af1-88fc-b6bc055342e3",
      "cell_type": "markdown",
      "source": [
        "#### Cleaning the Balcony column"
      ],
      "metadata": {
        "id": "1e77ea6e-434d-4af1-88fc-b6bc055342e3"
      }
    },
    {
      "id": "7787eb26-c1be-47c5-aefb-eeab1259b338",
      "cell_type": "code",
      "source": [
        "df[\"Balcony\"].unique()"
      ],
      "metadata": {
        "id": "7787eb26-c1be-47c5-aefb-eeab1259b338"
      },
      "outputs": [],
      "execution_count": null
    },
    {
      "id": "72778c5b-d7a0-4723-ab30-821dff607416",
      "cell_type": "code",
      "source": [
        "df[\"Balcony\"] = df[\"Balcony\"].ffill() #Filling the null values with mode value"
      ],
      "metadata": {
        "id": "72778c5b-d7a0-4723-ab30-821dff607416"
      },
      "outputs": [],
      "execution_count": null
    },
    {
      "id": "c0219fbf-758f-4243-91fe-2ffaf4132143",
      "cell_type": "code",
      "source": [
        "df[\"Balcony\"].unique()"
      ],
      "metadata": {
        "id": "c0219fbf-758f-4243-91fe-2ffaf4132143"
      },
      "outputs": [],
      "execution_count": null
    },
    {
      "id": "a4addb73-1df5-4d10-b289-d7072399137b",
      "cell_type": "code",
      "source": [
        "df[\"Balcony\"] = df[\"Balcony\"].str.extract('(\\d+)').astype(int) #Extracting the numerical values and converting it to num"
      ],
      "metadata": {
        "id": "a4addb73-1df5-4d10-b289-d7072399137b"
      },
      "outputs": [],
      "execution_count": null
    },
    {
      "id": "57d55a51-35da-45b1-96b2-7bda269532f3",
      "cell_type": "code",
      "source": [
        "df[\"Balcony\"].unique()"
      ],
      "metadata": {
        "id": "57d55a51-35da-45b1-96b2-7bda269532f3"
      },
      "outputs": [],
      "execution_count": null
    },
    {
      "id": "06b4631d-aa5e-495b-8f66-3cdd115dfdb1",
      "cell_type": "code",
      "source": [
        "# Done cleaning df[\"Balcony\"]"
      ],
      "metadata": {
        "id": "06b4631d-aa5e-495b-8f66-3cdd115dfdb1"
      },
      "outputs": [],
      "execution_count": null
    },
    {
      "id": "8a0aeb20-7dfd-48b1-b11c-410035f470ff",
      "cell_type": "code",
      "source": [],
      "metadata": {
        "id": "8a0aeb20-7dfd-48b1-b11c-410035f470ff"
      },
      "outputs": [],
      "execution_count": null
    },
    {
      "id": "16aa5e44-6600-4979-954c-579a6231305d",
      "cell_type": "markdown",
      "source": [
        "#### Cleaning the Super Area column"
      ],
      "metadata": {
        "id": "16aa5e44-6600-4979-954c-579a6231305d"
      }
    },
    {
      "id": "08502328-ca4c-46ac-bc01-186227e304cb",
      "cell_type": "code",
      "source": [
        "df[\"Super Area\"].unique()"
      ],
      "metadata": {
        "id": "08502328-ca4c-46ac-bc01-186227e304cb"
      },
      "outputs": [],
      "execution_count": null
    },
    {
      "id": "a4414540-a715-49d6-8209-526062d17211",
      "cell_type": "code",
      "source": [
        "df[\"Super Area\"] = df[\"Super Area\"].bfill() #Backward fill for NaN data"
      ],
      "metadata": {
        "id": "a4414540-a715-49d6-8209-526062d17211"
      },
      "outputs": [],
      "execution_count": null
    },
    {
      "id": "46c3f5e7-8c42-4edd-af07-d25c0679b57f",
      "cell_type": "code",
      "source": [
        "df[\"Super Area\"] = df[\"Super Area\"].str.replace(\"sqyrd\",\"*9\",regex=False) #Converting the data from square yard to square feet 1sqyrd = 9sqft"
      ],
      "metadata": {
        "id": "46c3f5e7-8c42-4edd-af07-d25c0679b57f"
      },
      "outputs": [],
      "execution_count": null
    },
    {
      "id": "bc6f8546-c01f-498b-8bf6-d6f881c1b492",
      "cell_type": "code",
      "source": [
        "df[\"Super Area\"] = df[\"Super Area\"].str.replace(\"sqft\",\"\",regex=False)"
      ],
      "metadata": {
        "id": "bc6f8546-c01f-498b-8bf6-d6f881c1b492"
      },
      "outputs": [],
      "execution_count": null
    },
    {
      "id": "0a12b32d-58eb-476e-b26f-21ed245cd4ad",
      "cell_type": "code",
      "source": [
        "super = []"
      ],
      "metadata": {
        "id": "0a12b32d-58eb-476e-b26f-21ed245cd4ad"
      },
      "outputs": [],
      "execution_count": null
    },
    {
      "id": "1c4aac9d-acc4-47d6-94bd-138d6b2e3797",
      "cell_type": "code",
      "source": [
        "for area in df[\"Super Area\"]:\n",
        "    try:\n",
        "        super.append(int(eval(area)))\n",
        "    except:\n",
        "        super.append(None)"
      ],
      "metadata": {
        "id": "1c4aac9d-acc4-47d6-94bd-138d6b2e3797"
      },
      "outputs": [],
      "execution_count": null
    },
    {
      "id": "96fa72ee-b430-48b1-ab86-72d849d7729c",
      "cell_type": "code",
      "source": [
        "df[\"Super_Area_sqft\"] = super"
      ],
      "metadata": {
        "id": "96fa72ee-b430-48b1-ab86-72d849d7729c"
      },
      "outputs": [],
      "execution_count": null
    },
    {
      "id": "545a2d02-f25a-41bf-a0ae-8d98c46b1a25",
      "cell_type": "code",
      "source": [
        "df.drop(\"Super Area\",axis=1,inplace=True)"
      ],
      "metadata": {
        "id": "545a2d02-f25a-41bf-a0ae-8d98c46b1a25"
      },
      "outputs": [],
      "execution_count": null
    },
    {
      "id": "9685c50f-1c0d-471e-8b44-90691704a274",
      "cell_type": "code",
      "source": [
        "df[\"Super_Area_sqft\"][131800] #For 9 * 140sqyrd == 1260"
      ],
      "metadata": {
        "id": "9685c50f-1c0d-471e-8b44-90691704a274"
      },
      "outputs": [],
      "execution_count": null
    },
    {
      "id": "4827f9b4-8e3d-4d6a-97c3-25ca87a29dc2",
      "cell_type": "code",
      "source": [
        "df[\"Super_Area_sqft\"].unique()"
      ],
      "metadata": {
        "id": "4827f9b4-8e3d-4d6a-97c3-25ca87a29dc2"
      },
      "outputs": [],
      "execution_count": null
    },
    {
      "id": "a018d8f0-3187-4abc-9374-9f64347b174a",
      "cell_type": "code",
      "source": [
        "\n",
        "#Done cleaning the \"Super Area\" column"
      ],
      "metadata": {
        "id": "a018d8f0-3187-4abc-9374-9f64347b174a"
      },
      "outputs": [],
      "execution_count": null
    },
    {
      "id": "5e2d0546-08e5-48a1-a325-360c60842765",
      "cell_type": "code",
      "source": [],
      "metadata": {
        "id": "5e2d0546-08e5-48a1-a325-360c60842765"
      },
      "outputs": [],
      "execution_count": null
    },
    {
      "id": "bcee4bd7-7b73-425c-90ac-17beacedcd8a",
      "cell_type": "code",
      "source": [
        "df.columns #Columns in the dataframe"
      ],
      "metadata": {
        "id": "bcee4bd7-7b73-425c-90ac-17beacedcd8a"
      },
      "outputs": [],
      "execution_count": null
    },
    {
      "id": "091dd65a-5929-46ae-af39-ffa37c9c279a",
      "cell_type": "code",
      "source": [
        "df.nunique() #Number of unique values in the columns of  the dataframe"
      ],
      "metadata": {
        "id": "091dd65a-5929-46ae-af39-ffa37c9c279a"
      },
      "outputs": [],
      "execution_count": null
    },
    {
      "id": "f2b9a6cb-1096-4772-a117-69b9ba3d519a",
      "cell_type": "code",
      "source": [
        "df.nunique()*100/df.shape[0] #Percentage of the unique values in the dataframe"
      ],
      "metadata": {
        "id": "f2b9a6cb-1096-4772-a117-69b9ba3d519a"
      },
      "outputs": [],
      "execution_count": null
    },
    {
      "id": "47d37f0e-b2f1-4ae1-a730-e28b45bd1ab4",
      "cell_type": "code",
      "source": [
        "df.isnull().sum()*100/df.shape[0] #Percantage of the Null valueas in the dataframe"
      ],
      "metadata": {
        "id": "47d37f0e-b2f1-4ae1-a730-e28b45bd1ab4"
      },
      "outputs": [],
      "execution_count": null
    },
    {
      "id": "c160ff40-c902-4068-829a-fbba9d433580",
      "cell_type": "code",
      "source": [],
      "metadata": {
        "id": "c160ff40-c902-4068-829a-fbba9d433580"
      },
      "outputs": [],
      "execution_count": null
    },
    {
      "id": "2dfeac85-a920-49d1-92dd-67b855e7ddb8",
      "cell_type": "markdown",
      "source": [
        "#### Dropping unecessary columns"
      ],
      "metadata": {
        "id": "2dfeac85-a920-49d1-92dd-67b855e7ddb8"
      }
    },
    {
      "id": "d149b1f1-8bc4-4ca5-8c8f-50d80664bca3",
      "cell_type": "code",
      "source": [
        "df.drop([\"Plot Area\",\"Dimensions\",\"Car Parking\",\"Society\"],axis=1,inplace=True)"
      ],
      "metadata": {
        "id": "d149b1f1-8bc4-4ca5-8c8f-50d80664bca3"
      },
      "outputs": [],
      "execution_count": null
    },
    {
      "id": "d1c2d047-7ec9-4337-9df6-00f6c542b7cb",
      "cell_type": "code",
      "source": [
        "df.duplicated().sum()"
      ],
      "metadata": {
        "id": "d1c2d047-7ec9-4337-9df6-00f6c542b7cb"
      },
      "outputs": [],
      "execution_count": null
    },
    {
      "id": "fb01af1e-264c-4625-a2ee-c3b94bd5d965",
      "cell_type": "code",
      "source": [
        "df.drop(\"Index\",axis=1,inplace=True)"
      ],
      "metadata": {
        "id": "fb01af1e-264c-4625-a2ee-c3b94bd5d965"
      },
      "outputs": [],
      "execution_count": null
    },
    {
      "id": "b5c3d70c-67d2-400e-871c-2bbd6ac625f4",
      "cell_type": "markdown",
      "source": [
        "#### THE NUMERICAL DATA"
      ],
      "metadata": {
        "id": "b5c3d70c-67d2-400e-871c-2bbd6ac625f4"
      }
    },
    {
      "id": "5865ae5a-695a-48bd-b525-ee79b2b21a82",
      "cell_type": "code",
      "source": [
        "numerical_col = df.select_dtypes(exclude='object')[:5]"
      ],
      "metadata": {
        "id": "5865ae5a-695a-48bd-b525-ee79b2b21a82"
      },
      "outputs": [],
      "execution_count": null
    },
    {
      "id": "a5edbff0-a910-42a4-bd22-574271632a36",
      "cell_type": "markdown",
      "source": [
        "#### CATEGORICAL DATA"
      ],
      "metadata": {
        "id": "a5edbff0-a910-42a4-bd22-574271632a36"
      }
    },
    {
      "id": "3b500f7c-8ccd-4b26-b403-4621831e35f7",
      "cell_type": "code",
      "source": [
        "categorical_col = df.select_dtypes(include='object')"
      ],
      "metadata": {
        "id": "3b500f7c-8ccd-4b26-b403-4621831e35f7"
      },
      "outputs": [],
      "execution_count": null
    },
    {
      "id": "d30746a6-92c5-414c-856f-45e7d0ea2ca9",
      "cell_type": "markdown",
      "source": [
        "### OUTLIERS REMOVAL USING ZSCORE,IQR AND BOXPLOT"
      ],
      "metadata": {
        "id": "d30746a6-92c5-414c-856f-45e7d0ea2ca9"
      }
    },
    {
      "id": "cc68f7cd-d74f-4bc4-9438-9fcdd161df88",
      "cell_type": "markdown",
      "source": [
        "#### Describe data"
      ],
      "metadata": {
        "id": "cc68f7cd-d74f-4bc4-9438-9fcdd161df88"
      }
    },
    {
      "id": "fe500626-e043-4a92-af8f-f4221530cca6",
      "cell_type": "code",
      "source": [
        "categorical_col.describe() #Statistical summmary of both the categorical and text columns"
      ],
      "metadata": {
        "id": "fe500626-e043-4a92-af8f-f4221530cca6"
      },
      "outputs": [],
      "execution_count": null
    },
    {
      "id": "603f9bf0-218f-47bd-9178-1020a57e03c5",
      "cell_type": "code",
      "source": [
        "numerical_col.describe() # Statistical summmary of the numerical data columns"
      ],
      "metadata": {
        "id": "603f9bf0-218f-47bd-9178-1020a57e03c5"
      },
      "outputs": [],
      "execution_count": null
    },
    {
      "id": "9308815b-f44d-4b1b-9470-fe9e510767a5",
      "cell_type": "markdown",
      "source": [
        "#### CHECKING THE FREQUENCIES OF AMOUNT OF DIFFERENT FURNISHING FEATURES"
      ],
      "metadata": {
        "id": "9308815b-f44d-4b1b-9470-fe9e510767a5"
      }
    },
    {
      "id": "ca3cd3e8-8a77-465b-a693-27efe3968350",
      "cell_type": "code",
      "source": [
        "df.Furnishing.unique()"
      ],
      "metadata": {
        "id": "ca3cd3e8-8a77-465b-a693-27efe3968350"
      },
      "outputs": [],
      "execution_count": null
    },
    {
      "id": "cfa50611-39e3-4653-a7ba-127ae1f1fb57",
      "cell_type": "code",
      "source": [
        "furnish_amount = pd.melt(df, id_vars=\"Furnishing\",value_vars=\"Amount(Lac)\") #For getting the \"Furnishing\" and \"Amount(Lac)\" columns"
      ],
      "metadata": {
        "id": "cfa50611-39e3-4653-a7ba-127ae1f1fb57"
      },
      "outputs": [],
      "execution_count": null
    },
    {
      "id": "6a8b3f14-a7fd-45b5-adbc-d634df9aaeb3",
      "cell_type": "code",
      "source": [
        "furnish_amount[:4] #First four rows"
      ],
      "metadata": {
        "id": "6a8b3f14-a7fd-45b5-adbc-d634df9aaeb3"
      },
      "outputs": [],
      "execution_count": null
    },
    {
      "id": "e1a61193-6887-4e2d-bb35-8364a6e08987",
      "cell_type": "code",
      "source": [
        "# \"Bar Graph of Amount(Lac) against Furnishing\"\n",
        "plt.grid()\n",
        "sns.barplot(x=furnish_amount[\"Furnishing\"],y=furnish_amount[\"value\"])\n",
        "plt.title(\"Bar Graph of Amount(Lac) against Furnishing\",fontsize=15)\n",
        "plt.xlabel(\"Furnishing\",fontsize=10)\n",
        "plt.ylabel(\"Amount(Lac)\",fontsize=10)\n",
        "plt.show()"
      ],
      "metadata": {
        "id": "e1a61193-6887-4e2d-bb35-8364a6e08987"
      },
      "outputs": [],
      "execution_count": null
    },
    {
      "id": "805f6002-72f2-4912-b577-f65fea3ae0a5",
      "cell_type": "code",
      "source": [
        "#BOXPLOT OF NUMERICAL COLUMNS"
      ],
      "metadata": {
        "id": "805f6002-72f2-4912-b577-f65fea3ae0a5"
      },
      "outputs": [],
      "execution_count": null
    },
    {
      "id": "d1527f95-bc68-426a-b449-59823a245a53",
      "cell_type": "code",
      "source": [
        "plt.figure(figsize=(15,10))\n",
        "plt.grid()\n",
        "sns.boxplot(numerical_col)\n",
        "plt.title(\"BOXPLOT OF NUMERICAL COLUMNS\",fontsize=20)\n",
        "plt.show()"
      ],
      "metadata": {
        "id": "d1527f95-bc68-426a-b449-59823a245a53"
      },
      "outputs": [],
      "execution_count": null
    },
    {
      "id": "cb4ebe94-1a53-4da1-9ed9-950513f6619f",
      "cell_type": "code",
      "source": [],
      "metadata": {
        "id": "cb4ebe94-1a53-4da1-9ed9-950513f6619f"
      },
      "outputs": [],
      "execution_count": null
    },
    {
      "id": "441f61c3-0e47-44f6-8324-d299a1ea1c85",
      "cell_type": "markdown",
      "source": [
        "#### THE NUMBER OF BALCONY SHOULD NOT BE MORE THAN TWICE THE NUMBER OF BATHROOMS"
      ],
      "metadata": {
        "id": "441f61c3-0e47-44f6-8324-d299a1ea1c85"
      }
    },
    {
      "id": "2fee1426-3131-4d1c-8384-47647fcfa3d8",
      "cell_type": "code",
      "source": [
        "df.query(\"Balcony > Bathroom*2\").shape"
      ],
      "metadata": {
        "id": "2fee1426-3131-4d1c-8384-47647fcfa3d8"
      },
      "outputs": [],
      "execution_count": null
    },
    {
      "id": "37a2eed3-a4f8-4db3-bcf2-406913cf271c",
      "cell_type": "code",
      "source": [
        "#Drop the columns with Balcony > 2*Bathroom\n",
        "mask_balcony = df[\"Balcony\"] < df[\"Bathroom\"]*2\n",
        "df = df[mask_balcony]"
      ],
      "metadata": {
        "id": "37a2eed3-a4f8-4db3-bcf2-406913cf271c"
      },
      "outputs": [],
      "execution_count": null
    },
    {
      "id": "92bc0d32-a163-4cc0-84eb-cd31276dd38a",
      "cell_type": "code",
      "source": [
        "df.shape[0]-df.query(\"Balcony > Bathroom*2\").shape[0] #Remaining rows"
      ],
      "metadata": {
        "id": "92bc0d32-a163-4cc0-84eb-cd31276dd38a"
      },
      "outputs": [],
      "execution_count": null
    },
    {
      "id": "d74b4aa2-2a95-4d30-a711-efb9a2ec5f3e",
      "cell_type": "markdown",
      "source": [
        "### Using zcsore for outliers removal"
      ],
      "metadata": {
        "id": "d74b4aa2-2a95-4d30-a711-efb9a2ec5f3e"
      }
    },
    {
      "id": "44ca3b8f-c6fd-49b9-a167-2ab13642fccf",
      "cell_type": "code",
      "source": [
        "df[\"Z_score\"] = zscore(df[\"Bathroom\"]) #zscore for number of bathrooms"
      ],
      "metadata": {
        "id": "44ca3b8f-c6fd-49b9-a167-2ab13642fccf"
      },
      "outputs": [],
      "execution_count": null
    },
    {
      "id": "be1b3339-b880-4823-9bbc-8bba26861e72",
      "cell_type": "code",
      "source": [
        "df[\"Z_score\"].head() #zscore values"
      ],
      "metadata": {
        "id": "be1b3339-b880-4823-9bbc-8bba26861e72"
      },
      "outputs": [],
      "execution_count": null
    },
    {
      "id": "5f4c95c1-5f85-4823-8846-31e077a94a01",
      "cell_type": "code",
      "source": [
        "df[\"Z_score\"].min(),df[\"Z_score\"].max()"
      ],
      "metadata": {
        "id": "5f4c95c1-5f85-4823-8846-31e077a94a01"
      },
      "outputs": [],
      "execution_count": null
    },
    {
      "id": "5fbf5c9e-6150-49e3-9c5d-08e6de0da257",
      "cell_type": "markdown",
      "source": [
        "##### Using a deviation of 3 and -3 intervals of std"
      ],
      "metadata": {
        "id": "5fbf5c9e-6150-49e3-9c5d-08e6de0da257"
      }
    },
    {
      "id": "4f72dd26-1d5d-4f04-b7d9-177b36c7b288",
      "cell_type": "code",
      "source": [
        "df = df[(df.Z_score > -3) & (df.Z_score <= 3)]"
      ],
      "metadata": {
        "id": "4f72dd26-1d5d-4f04-b7d9-177b36c7b288"
      },
      "outputs": [],
      "execution_count": null
    },
    {
      "id": "2e075f6f-2477-4f6f-923b-af464b318b27",
      "cell_type": "code",
      "source": [
        "df.shape"
      ],
      "metadata": {
        "id": "2e075f6f-2477-4f6f-923b-af464b318b27"
      },
      "outputs": [],
      "execution_count": null
    },
    {
      "id": "5ca28033-a528-45e2-904b-e34c2915f539",
      "cell_type": "code",
      "source": [
        "#Dropping the z_score column\n",
        "df.drop(\"Z_score\",axis=1,inplace=True)"
      ],
      "metadata": {
        "id": "5ca28033-a528-45e2-904b-e34c2915f539"
      },
      "outputs": [],
      "execution_count": null
    },
    {
      "id": "27acce22-713a-432f-bf14-ba08eab53e87",
      "cell_type": "code",
      "source": [
        "df.sample() #Random sample of the data"
      ],
      "metadata": {
        "id": "27acce22-713a-432f-bf14-ba08eab53e87"
      },
      "outputs": [],
      "execution_count": null
    },
    {
      "id": "0add2402-9917-4698-94a7-f5867c1db907",
      "cell_type": "markdown",
      "source": [
        "### Using IQR for outlier removal, for Price and Amount"
      ],
      "metadata": {
        "id": "0add2402-9917-4698-94a7-f5867c1db907"
      }
    },
    {
      "id": "d4834920-fff9-4632-b767-05e0a002dc91",
      "cell_type": "code",
      "source": [
        "Q1p,Q3p = df[\"Price (Lac)\"].quantile([0.25,0.75]) #25% and 75% percentiles of the Price column"
      ],
      "metadata": {
        "id": "d4834920-fff9-4632-b767-05e0a002dc91"
      },
      "outputs": [],
      "execution_count": null
    },
    {
      "id": "445a3988-f37c-4ebb-94a6-615b1ed3c852",
      "cell_type": "code",
      "source": [
        "IQR = (Q3p - Q1p)"
      ],
      "metadata": {
        "id": "445a3988-f37c-4ebb-94a6-615b1ed3c852"
      },
      "outputs": [],
      "execution_count": null
    },
    {
      "id": "e7a09955-72ab-4a49-8f24-1ddfa5bc8383",
      "cell_type": "code",
      "source": [
        "price_lower_limit = Q1p - IQR*1.5 #Lower limit of the price\n",
        "price_upper_limit = Q3p + IQR*1.5 #Upper limit of the price"
      ],
      "metadata": {
        "id": "e7a09955-72ab-4a49-8f24-1ddfa5bc8383"
      },
      "outputs": [],
      "execution_count": null
    },
    {
      "id": "9cbcd7da-3eeb-4e49-964a-519a21ab727e",
      "cell_type": "code",
      "source": [
        "round(price_lower_limit,3),round(price_upper_limit,3)"
      ],
      "metadata": {
        "id": "9cbcd7da-3eeb-4e49-964a-519a21ab727e"
      },
      "outputs": [],
      "execution_count": null
    },
    {
      "id": "1f3843b1-330a-484f-878f-d6f6f66f5c28",
      "cell_type": "code",
      "source": [
        "mask_price = ((df[\"Price (Lac)\"] > price_lower_limit) & (df[\"Price (Lac)\"] < price_upper_limit))"
      ],
      "metadata": {
        "id": "1f3843b1-330a-484f-878f-d6f6f66f5c28"
      },
      "outputs": [],
      "execution_count": null
    },
    {
      "id": "492a961a-c6a3-400e-997e-8da4555c9914",
      "cell_type": "code",
      "source": [
        "df = df[mask_price]"
      ],
      "metadata": {
        "id": "492a961a-c6a3-400e-997e-8da4555c9914"
      },
      "outputs": [],
      "execution_count": null
    },
    {
      "id": "42802055-331f-4d77-8882-9acd6922b5a9",
      "cell_type": "markdown",
      "source": [
        "#### Using a boxplot to clean the Carpet_Area_sqft and\tSuper_Area_sqft columns"
      ],
      "metadata": {
        "id": "42802055-331f-4d77-8882-9acd6922b5a9"
      }
    },
    {
      "id": "6b091a02-c106-4f97-9116-26b3fbdbfb55",
      "cell_type": "markdown",
      "source": [
        "##### Cleaning the Carpet_Area_sqft column"
      ],
      "metadata": {
        "id": "6b091a02-c106-4f97-9116-26b3fbdbfb55"
      }
    },
    {
      "id": "6dd7a0a3-2609-4da3-9433-fc9545e68bb5",
      "cell_type": "code",
      "source": [
        "df[\"Carpet_Area_sqft\"].min(),df[\"Carpet_Area_sqft\"].mean(),df[\"Carpet_Area_sqft\"].max()"
      ],
      "metadata": {
        "id": "6dd7a0a3-2609-4da3-9433-fc9545e68bb5"
      },
      "outputs": [],
      "execution_count": null
    },
    {
      "id": "0874966e-de30-4220-ae20-07ae019f0ddb",
      "cell_type": "code",
      "source": [
        "#Before outiers removal\n",
        "plt.grid(visible=True)\n",
        "plt.title(\"Boxplot of Carpet Area in Sqft\",fontsize=15)\n",
        "sns.boxplot(df[\"Carpet_Area_sqft\"])\n",
        "plt.yscale(\"log\")"
      ],
      "metadata": {
        "id": "0874966e-de30-4220-ae20-07ae019f0ddb"
      },
      "outputs": [],
      "execution_count": null
    },
    {
      "id": "a26bcbd4-f02d-4096-a400-5a5e7b407927",
      "cell_type": "code",
      "source": [
        "mask_carpet = (df[\"Carpet_Area_sqft\"] < 2200) & (df[\"Carpet_Area_sqft\"] > 100)"
      ],
      "metadata": {
        "id": "a26bcbd4-f02d-4096-a400-5a5e7b407927"
      },
      "outputs": [],
      "execution_count": null
    },
    {
      "id": "8f839411-5eb5-48dc-8bda-c7d3ea4c1b4e",
      "cell_type": "code",
      "source": [
        "df = df[mask_carpet]"
      ],
      "metadata": {
        "id": "8f839411-5eb5-48dc-8bda-c7d3ea4c1b4e"
      },
      "outputs": [],
      "execution_count": null
    },
    {
      "id": "b9ad8b82-ed8e-4e5b-ae87-7e0784da4091",
      "cell_type": "code",
      "source": [
        "#After outiers removal\n",
        "plt.grid(visible=True)\n",
        "plt.title(\"Boxplot of Carpet Area in Sqft\",fontsize=15)\n",
        "sns.boxplot(df[\"Carpet_Area_sqft\"])\n",
        "plt.yscale(\"log\")"
      ],
      "metadata": {
        "id": "b9ad8b82-ed8e-4e5b-ae87-7e0784da4091"
      },
      "outputs": [],
      "execution_count": null
    },
    {
      "id": "bbec92d5-cecd-4c9e-8151-6045cf7e21bc",
      "cell_type": "markdown",
      "source": [
        "##### Cleaning the Super_Area_sqft column"
      ],
      "metadata": {
        "id": "bbec92d5-cecd-4c9e-8151-6045cf7e21bc"
      }
    },
    {
      "id": "d0ae5341-4b43-4646-a2af-b4836b8aa68e",
      "cell_type": "code",
      "source": [
        "df[\"Super_Area_sqft\"].min(),df[\"Super_Area_sqft\"].mean(),df[\"Super_Area_sqft\"].max()"
      ],
      "metadata": {
        "id": "d0ae5341-4b43-4646-a2af-b4836b8aa68e"
      },
      "outputs": [],
      "execution_count": null
    },
    {
      "id": "b1281eb0-4859-4b9e-be1a-95889f18a753",
      "cell_type": "code",
      "source": [
        "#Before outliers removal\n",
        "plt.title(\"Boxplot of Carpet Area in Sqft\",fontsize=15)\n",
        "df.Super_Area_sqft.plot(kind='box')\n",
        "plt.show()"
      ],
      "metadata": {
        "id": "b1281eb0-4859-4b9e-be1a-95889f18a753"
      },
      "outputs": [],
      "execution_count": null
    },
    {
      "id": "31450769-7729-4dff-a27b-aa49d627728c",
      "cell_type": "code",
      "source": [
        "mask_super_area = (df.Super_Area_sqft > 100) & (df.Super_Area_sqft < 2200)"
      ],
      "metadata": {
        "id": "31450769-7729-4dff-a27b-aa49d627728c"
      },
      "outputs": [],
      "execution_count": null
    },
    {
      "id": "4612989f-73aa-42c7-92d3-88b96604246a",
      "cell_type": "code",
      "source": [
        "df = df[mask_super_area]"
      ],
      "metadata": {
        "id": "4612989f-73aa-42c7-92d3-88b96604246a"
      },
      "outputs": [],
      "execution_count": null
    },
    {
      "id": "8a0d9840-3008-4056-aacf-902511d499a1",
      "cell_type": "code",
      "source": [
        "#after outliers removal\n",
        "plt.title(\"Boxplot of Carpet Area in Sqft\",fontsize=15)\n",
        "df.Super_Area_sqft.plot(kind='box')\n",
        "plt.show()"
      ],
      "metadata": {
        "id": "8a0d9840-3008-4056-aacf-902511d499a1"
      },
      "outputs": [],
      "execution_count": null
    },
    {
      "id": "a91f21f3-a086-4bba-aaa3-a574f50ab3fd",
      "cell_type": "markdown",
      "source": [
        "## VISUALISATION ANALYSIS OF THE DATA"
      ],
      "metadata": {
        "id": "a91f21f3-a086-4bba-aaa3-a574f50ab3fd"
      }
    },
    {
      "id": "5afa5668-8918-45f5-806f-cd059424285b",
      "cell_type": "code",
      "source": [
        "df.columns"
      ],
      "metadata": {
        "id": "5afa5668-8918-45f5-806f-cd059424285b"
      },
      "outputs": [],
      "execution_count": null
    },
    {
      "id": "5cc52ca4-a5bd-4248-84b0-b43fb93513cd",
      "cell_type": "code",
      "source": [],
      "metadata": {
        "id": "5cc52ca4-a5bd-4248-84b0-b43fb93513cd"
      },
      "outputs": [],
      "execution_count": null
    },
    {
      "id": "4179aade-8b0c-4861-b062-39362c9f9072",
      "cell_type": "markdown",
      "source": [
        "#### USING HISTOGRAM TO CHECK FOR FREQUENCIES"
      ],
      "metadata": {
        "id": "4179aade-8b0c-4861-b062-39362c9f9072"
      }
    },
    {
      "id": "d320afd0-e3d8-4c34-82af-8728be4bb82e",
      "cell_type": "code",
      "source": [
        "#Histogram of Super_Area_sqft\n",
        "plt.hist(df.Super_Area_sqft)\n",
        "plt.title(\"Super Area Square Feet\",fontsize=15)\n",
        "plt.xlabel(\"Super Area(sqft)\",fontsize=10)\n",
        "plt.ylabel(\"Frequency\",fontsize=10)\n",
        "plt.yscale(\"log\")\n",
        "plt.show()"
      ],
      "metadata": {
        "id": "d320afd0-e3d8-4c34-82af-8728be4bb82e"
      },
      "outputs": [],
      "execution_count": null
    },
    {
      "id": "1922f1a5-7d9a-4868-b84b-5726d2b6b440",
      "cell_type": "code",
      "source": [],
      "metadata": {
        "id": "1922f1a5-7d9a-4868-b84b-5726d2b6b440"
      },
      "outputs": [],
      "execution_count": null
    },
    {
      "id": "333dc707-4348-4fba-bb5b-c16fb08108e5",
      "cell_type": "code",
      "source": [
        "#Histogram of Super_Area_sqft\n",
        "plt.hist(df.Carpet_Area_sqft)\n",
        "plt.title(\"Carpet Area Square Feet\",fontsize=15)\n",
        "plt.xlabel(\"Carpet Area(sqft)\",fontsize=10)\n",
        "plt.ylabel(\"Frequency\",fontsize=10)\n",
        "plt.yscale(\"log\")\n",
        "plt.show()"
      ],
      "metadata": {
        "id": "333dc707-4348-4fba-bb5b-c16fb08108e5"
      },
      "outputs": [],
      "execution_count": null
    },
    {
      "id": "abf91f87-f01b-45bf-8f20-59a252194c92",
      "cell_type": "code",
      "source": [],
      "metadata": {
        "id": "abf91f87-f01b-45bf-8f20-59a252194c92"
      },
      "outputs": [],
      "execution_count": null
    },
    {
      "id": "5ebd887c-cde0-4e9a-ad1f-c9f66a6d796f",
      "cell_type": "code",
      "source": [
        "#Histogram of Price (Lac)\n",
        "plt.hist(df[\"Price (Lac)\"])\n",
        "plt.title(\"Price In Lac\",fontsize=15)\n",
        "plt.xlabel(\"Price (Lac)\",fontsize=10)\n",
        "plt.ylabel(\"Frequency\",fontsize=10)\n",
        "plt.yscale(\"log\")\n",
        "plt.show()"
      ],
      "metadata": {
        "id": "5ebd887c-cde0-4e9a-ad1f-c9f66a6d796f"
      },
      "outputs": [],
      "execution_count": null
    },
    {
      "id": "5bfe95e4-2081-40b2-b20a-a9993465d3da",
      "cell_type": "code",
      "source": [],
      "metadata": {
        "id": "5bfe95e4-2081-40b2-b20a-a9993465d3da"
      },
      "outputs": [],
      "execution_count": null
    },
    {
      "id": "c4dd47ee-0007-45ee-844a-0fa07432281b",
      "cell_type": "code",
      "source": [
        "#Histogram of Amount(Lac)\n",
        "plt.hist(df[\"Amount(Lac)\"])\n",
        "plt.title(\"Amount In Lac\",fontsize=15)\n",
        "plt.xlabel(\"Amount(Lac)\",fontsize=10)\n",
        "plt.ylabel(\"Frequency\",fontsize=10)\n",
        "plt.yscale(\"log\")\n",
        "plt.show()"
      ],
      "metadata": {
        "id": "c4dd47ee-0007-45ee-844a-0fa07432281b"
      },
      "outputs": [],
      "execution_count": null
    },
    {
      "id": "5995bc39-fb7c-45e1-8e3a-6e37ef31a2ce",
      "cell_type": "code",
      "source": [
        "#From the above plot it shows that the value at 2500 is an outlier"
      ],
      "metadata": {
        "id": "5995bc39-fb7c-45e1-8e3a-6e37ef31a2ce"
      },
      "outputs": [],
      "execution_count": null
    },
    {
      "id": "ed1c7a68-b5cc-4844-b3b2-c9fe682ec7f8",
      "cell_type": "code",
      "source": [
        "#Drop\n",
        "mask_2500 = df[\"Amount(Lac)\"] < 1400"
      ],
      "metadata": {
        "id": "ed1c7a68-b5cc-4844-b3b2-c9fe682ec7f8"
      },
      "outputs": [],
      "execution_count": null
    },
    {
      "id": "ce4df786-b689-4f22-b32e-7cd92de46fda",
      "cell_type": "code",
      "source": [
        "df = df[mask_2500]"
      ],
      "metadata": {
        "id": "ce4df786-b689-4f22-b32e-7cd92de46fda"
      },
      "outputs": [],
      "execution_count": null
    },
    {
      "id": "d384edec-8fa6-4e39-9d37-9bf1c04e4d52",
      "cell_type": "code",
      "source": [
        "plt.hist(df[\"Amount(Lac)\"])\n",
        "plt.title(\"Amount In Lac\",fontsize=15)\n",
        "plt.xlabel(\"Amount(Lac)\",fontsize=10)\n",
        "plt.ylabel(\"Frequency\",fontsize=10)\n",
        "plt.yscale(\"log\")\n",
        "plt.show()"
      ],
      "metadata": {
        "id": "d384edec-8fa6-4e39-9d37-9bf1c04e4d52"
      },
      "outputs": [],
      "execution_count": null
    },
    {
      "id": "638edd1f-384c-4f86-b3e1-85f34816eab9",
      "cell_type": "code",
      "source": [],
      "metadata": {
        "id": "638edd1f-384c-4f86-b3e1-85f34816eab9"
      },
      "outputs": [],
      "execution_count": null
    },
    {
      "id": "5e359d10-87ac-4ad3-9f4a-817a632a01aa",
      "cell_type": "markdown",
      "source": [
        "#### Using scatter plot to check for relationship between columns"
      ],
      "metadata": {
        "id": "5e359d10-87ac-4ad3-9f4a-817a632a01aa"
      }
    },
    {
      "id": "5214d96d-24ee-492a-80b1-c8dba6a22b1a",
      "cell_type": "code",
      "source": [],
      "metadata": {
        "id": "5214d96d-24ee-492a-80b1-c8dba6a22b1a"
      },
      "outputs": [],
      "execution_count": null
    },
    {
      "id": "a4eadf06-2cfb-4d09-86ce-72637b8aebeb",
      "cell_type": "code",
      "source": [
        "#Correlation between Price (Lac) and Amount(Lac)\n",
        "corr = round(df[\"Price (Lac)\"].corr(df[\"Amount(Lac)\"]),3)\n",
        "sns.regplot(x=df[\"Price (Lac)\"],y=df[\"Amount(Lac)\"],label=corr)\n",
        "plt.title(\"Correlation between Price and Amount\",fontsize=15)\n",
        "plt.xlabel(\"Price (Lac)\",fontsize=10)\n",
        "plt.ylabel(\"Amount(Lac)\",fontsize=10)\n",
        "plt.legend()\n",
        "plt.show()"
      ],
      "metadata": {
        "id": "a4eadf06-2cfb-4d09-86ce-72637b8aebeb"
      },
      "outputs": [],
      "execution_count": null
    },
    {
      "id": "89f29cdd-6828-4715-9861-a88674153f96",
      "cell_type": "code",
      "source": [],
      "metadata": {
        "id": "89f29cdd-6828-4715-9861-a88674153f96"
      },
      "outputs": [],
      "execution_count": null
    },
    {
      "id": "0e8fff14-67b4-4926-b98a-586caddd8902",
      "cell_type": "code",
      "source": [
        "#Correlation between Balcony and Bathroom\n",
        "corr2 = round(df[\"Balcony\"].corr(df[\"Bathroom\"]),3)\n",
        "sns.regplot(x=df[\"Balcony\"],y=df[\"Bathroom\"],label=corr2,marker='+',color='g')\n",
        "plt.title(\"Correlation between Balcony and Bathroom\",fontsize=15)\n",
        "plt.xlabel(\"Balcony\",fontsize=10)\n",
        "plt.ylabel(\"Bathroom\",fontsize=10)\n",
        "plt.legend()\n",
        "plt.show()"
      ],
      "metadata": {
        "id": "0e8fff14-67b4-4926-b98a-586caddd8902"
      },
      "outputs": [],
      "execution_count": null
    },
    {
      "id": "4b4b854c-4165-4f86-8ae4-999d10fd3694",
      "cell_type": "code",
      "source": [],
      "metadata": {
        "id": "4b4b854c-4165-4f86-8ae4-999d10fd3694"
      },
      "outputs": [],
      "execution_count": null
    },
    {
      "id": "62446238-9feb-47a0-91e2-d20911fcd986",
      "cell_type": "code",
      "source": [
        "#Correlation between Carpet_Area_sqft and Bathroom\n",
        "corr2 = round(df[\"Carpet_Area_sqft\"].corr(df[\"Super_Area_sqft\"]),3)\n",
        "sns.regplot(x=df[\"Carpet_Area_sqft\"],y=df[\"Super_Area_sqft\"],label=corr2,marker='d',color='r')\n",
        "plt.title(\"Correlation between Carpet Area and Super Area\",fontsize=15)\n",
        "plt.xlabel(\"Carpet Area(sqft)\",fontsize=10)\n",
        "plt.ylabel(\"Super Area(sqft)\",fontsize=10)\n",
        "plt.legend()\n",
        "plt.show()"
      ],
      "metadata": {
        "id": "62446238-9feb-47a0-91e2-d20911fcd986"
      },
      "outputs": [],
      "execution_count": null
    },
    {
      "id": "31362c1a-ee79-47b7-9548-06f445b51346",
      "cell_type": "code",
      "source": [],
      "metadata": {
        "id": "31362c1a-ee79-47b7-9548-06f445b51346"
      },
      "outputs": [],
      "execution_count": null
    },
    {
      "id": "b9f2fd96-371d-42a9-b992-020447a82e60",
      "cell_type": "markdown",
      "source": [
        "#### USING HEATMAP TO CHECK THE CORRELATION OF THE NUMERICAL COLUMNS OF THE DATA"
      ],
      "metadata": {
        "id": "b9f2fd96-371d-42a9-b992-020447a82e60"
      }
    },
    {
      "id": "6789dc72-d907-43cf-8a1d-23c6e0572c99",
      "cell_type": "code",
      "source": [
        "numerical_cols = df.select_dtypes(exclude='object').corr()"
      ],
      "metadata": {
        "id": "6789dc72-d907-43cf-8a1d-23c6e0572c99"
      },
      "outputs": [],
      "execution_count": null
    },
    {
      "id": "c90dbba8-065b-42c1-b1a0-e2a549d3c460",
      "cell_type": "code",
      "source": [
        "#Using correlation heatmap to check the relationship of numerical columns"
      ],
      "metadata": {
        "id": "c90dbba8-065b-42c1-b1a0-e2a549d3c460"
      },
      "outputs": [],
      "execution_count": null
    },
    {
      "id": "22f30aea-b3ff-4f7e-a051-196f36590f3a",
      "cell_type": "code",
      "source": [
        "plt.figure(figsize=(15,10))\n",
        "\n",
        "sns.heatmap(numerical_cols,annot=True)\n",
        "plt.title(\"CORRELATION BETWEEN NUMERICAL COLUMNS\",fontsize=20)\n",
        "plt.show()"
      ],
      "metadata": {
        "id": "22f30aea-b3ff-4f7e-a051-196f36590f3a"
      },
      "outputs": [],
      "execution_count": null
    },
    {
      "id": "ed597392-ac1d-49a5-af83-10b89023aad9",
      "cell_type": "code",
      "source": [],
      "metadata": {
        "id": "ed597392-ac1d-49a5-af83-10b89023aad9"
      },
      "outputs": [],
      "execution_count": null
    },
    {
      "id": "6dede80c-5372-4de4-81de-5541ce832d53",
      "cell_type": "markdown",
      "source": [
        "### Plot relational pair plot to check relationship"
      ],
      "metadata": {
        "id": "6dede80c-5372-4de4-81de-5541ce832d53"
      }
    },
    {
      "id": "9d45be04-24a5-4269-9e0d-e91ac837e5cf",
      "cell_type": "code",
      "source": [
        "num_col = df.select_dtypes(exclude=\"object\")"
      ],
      "metadata": {
        "id": "9d45be04-24a5-4269-9e0d-e91ac837e5cf"
      },
      "outputs": [],
      "execution_count": null
    },
    {
      "id": "ce8b48b9-64bc-468b-80b2-93479eb2a976",
      "cell_type": "code",
      "source": [
        "\n",
        "sns.pairplot(num_col)\n",
        "plt.show()"
      ],
      "metadata": {
        "id": "ce8b48b9-64bc-468b-80b2-93479eb2a976"
      },
      "outputs": [],
      "execution_count": null
    },
    {
      "id": "39236a9b-2ba8-44f7-b13f-1482693122c3",
      "cell_type": "code",
      "source": [
        "num_col.columns #Choosing numerical columns with strong relationship\n"
      ],
      "metadata": {
        "id": "39236a9b-2ba8-44f7-b13f-1482693122c3"
      },
      "outputs": [],
      "execution_count": null
    },
    {
      "id": "6e5cb9a8-b6a7-4637-a918-e1cfa6faff1f",
      "cell_type": "code",
      "source": [
        "specific_num_cols = df[[\"Amount(Lac)\",\"Price (Lac)\",\"Carpet_Area_sqft\",\"Super_Area_sqft\"]]"
      ],
      "metadata": {
        "id": "6e5cb9a8-b6a7-4637-a918-e1cfa6faff1f"
      },
      "outputs": [],
      "execution_count": null
    },
    {
      "id": "394c2fd6-297a-4366-823a-96a991341b6c",
      "cell_type": "code",
      "source": [
        "#HIGHLY CORRELATED NUMERICAL COLUMNS\n",
        "sns.pairplot(specific_num_cols)\n",
        "plt.show()"
      ],
      "metadata": {
        "id": "394c2fd6-297a-4366-823a-96a991341b6c"
      },
      "outputs": [],
      "execution_count": null
    },
    {
      "id": "3d494fa9-f34c-44d7-a61d-39043d16126e",
      "cell_type": "code",
      "source": [
        "#Joint plot for \"Carpet_Area_sqft\",\"Super_Area_sqft\"\n",
        "sns.jointplot(x=df[\"Carpet_Area_sqft\"],y=df[\"Super_Area_sqft\"])\n",
        "#plt.title(\"Joint Plot Between Carpet_Area_sqft and Super_Area_sqft\")\n",
        "plt.show()"
      ],
      "metadata": {
        "id": "3d494fa9-f34c-44d7-a61d-39043d16126e"
      },
      "outputs": [],
      "execution_count": null
    },
    {
      "id": "96b7b9ad-651b-4899-b9aa-47ebca31eb24",
      "cell_type": "code",
      "source": [
        "#Joint plot for Price (Lac) and Amount(Lac)\n",
        "sns.jointplot(x=df[\"Price (Lac)\"],y=df[\"Amount(Lac)\"])\n",
        "#plt.title(\"Joint Plot Between Price (Lac) and Amount(Lac)\",fontsize=15)\n",
        "plt.show()"
      ],
      "metadata": {
        "id": "96b7b9ad-651b-4899-b9aa-47ebca31eb24"
      },
      "outputs": [],
      "execution_count": null
    },
    {
      "id": "aef746b0-7e44-480a-949f-072811ec926c",
      "cell_type": "markdown",
      "source": [
        "### USING PREPROCESSING TECHNIQUES TO HANDLE NULL , TEXT, CATEGORICAL AND NUMERICAL VALUES"
      ],
      "metadata": {
        "id": "aef746b0-7e44-480a-949f-072811ec926c"
      }
    },
    {
      "id": "035085e7-d563-471e-97b1-0e992d8e5404",
      "cell_type": "markdown",
      "source": [
        "#### Saving my cleaned data"
      ],
      "metadata": {
        "id": "035085e7-d563-471e-97b1-0e992d8e5404"
      }
    },
    {
      "id": "1aac9d2d-fc54-4c59-8a03-50e3de895903",
      "cell_type": "code",
      "source": [
        "df.to_csv(\"cleaned_house_price.csv\",index=False)"
      ],
      "metadata": {
        "id": "1aac9d2d-fc54-4c59-8a03-50e3de895903"
      },
      "outputs": [],
      "execution_count": null
    },
    {
      "id": "479cc745-919d-4f69-974c-ce2b37ba5383",
      "cell_type": "code",
      "source": [
        "dff = pd.read_csv(\"cleaned_house_price.csv\") #Starting to bbuild my model with my new data"
      ],
      "metadata": {
        "id": "479cc745-919d-4f69-974c-ce2b37ba5383"
      },
      "outputs": [],
      "execution_count": null
    },
    {
      "id": "7bc03382-9eb6-4e6a-90fb-861df9dfb2ed",
      "cell_type": "code",
      "source": [
        "dff.shape"
      ],
      "metadata": {
        "id": "7bc03382-9eb6-4e6a-90fb-861df9dfb2ed"
      },
      "outputs": [],
      "execution_count": null
    },
    {
      "id": "e3916a31-0f66-4dbf-947c-647e49efe989",
      "cell_type": "code",
      "source": [],
      "metadata": {
        "id": "e3916a31-0f66-4dbf-947c-647e49efe989"
      },
      "outputs": [],
      "execution_count": null
    },
    {
      "id": "06b1fc3b-bd12-44a4-8612-f71f7bffb3e5",
      "cell_type": "code",
      "source": [
        "dff.shape"
      ],
      "metadata": {
        "id": "06b1fc3b-bd12-44a4-8612-f71f7bffb3e5"
      },
      "outputs": [],
      "execution_count": null
    },
    {
      "id": "adaa1c45-0a14-40d8-af1d-5347d7fc4369",
      "cell_type": "code",
      "source": [
        "dff.isnull().sum()*100/dff.shape[0]"
      ],
      "metadata": {
        "id": "adaa1c45-0a14-40d8-af1d-5347d7fc4369"
      },
      "outputs": [],
      "execution_count": null
    },
    {
      "id": "e0c6397f-51d3-489e-8b86-b8dc5a9b3eca",
      "cell_type": "code",
      "source": [
        "#dff =dff.ffill() #Filling Null values using forward fill method"
      ],
      "metadata": {
        "id": "e0c6397f-51d3-489e-8b86-b8dc5a9b3eca"
      },
      "outputs": [],
      "execution_count": null
    },
    {
      "id": "4945b80d-b124-42b9-9c1a-d51383787ed3",
      "cell_type": "code",
      "source": [
        "#Due to storage drop all Null rows\n",
        "dff.dropna(inplace=True)"
      ],
      "metadata": {
        "id": "4945b80d-b124-42b9-9c1a-d51383787ed3"
      },
      "outputs": [],
      "execution_count": null
    },
    {
      "id": "6cf0333b-8023-4c24-8324-e8c39382deb7",
      "cell_type": "code",
      "source": [
        "dff.sample()"
      ],
      "metadata": {
        "id": "6cf0333b-8023-4c24-8324-e8c39382deb7"
      },
      "outputs": [],
      "execution_count": null
    },
    {
      "id": "b910a90e-c82b-4e98-83a0-b3ea0854eb78",
      "cell_type": "code",
      "source": [
        "import warnings\n",
        "warnings.filterwarnings('ignore')"
      ],
      "metadata": {
        "id": "b910a90e-c82b-4e98-83a0-b3ea0854eb78"
      },
      "outputs": [],
      "execution_count": null
    },
    {
      "id": "202c386e-a0a8-4ed6-a781-980ba8aa4234",
      "cell_type": "markdown",
      "source": [
        "### PREPROCESSING, PIPELINE AND MODEL BUILDING"
      ],
      "metadata": {
        "id": "202c386e-a0a8-4ed6-a781-980ba8aa4234"
      }
    },
    {
      "id": "c42adc6b-6e52-4f62-98d7-5db236b317e9",
      "cell_type": "code",
      "source": [
        "from sklearn.preprocessing import StandardScaler #For numerical features\n",
        "from sklearn.preprocessing import OneHotEncoder #For categorical features\n",
        "from sklearn.feature_extraction.text import CountVectorizer,TfidfVectorizer #For text features\n",
        "from sklearn.impute import SimpleImputer #For Null values handling"
      ],
      "metadata": {
        "id": "c42adc6b-6e52-4f62-98d7-5db236b317e9"
      },
      "outputs": [],
      "execution_count": null
    },
    {
      "id": "06c25c39-33ec-4e47-a53a-1ad38e3672d7",
      "cell_type": "code",
      "source": [],
      "metadata": {
        "id": "06c25c39-33ec-4e47-a53a-1ad38e3672d7"
      },
      "outputs": [],
      "execution_count": null
    },
    {
      "id": "1a0091f2-f0c5-422f-a29f-f259346d0562",
      "cell_type": "code",
      "source": [
        "from sklearn.ensemble import VotingRegressor\n",
        "from sklearn.pipeline import Pipeline\n",
        "from sklearn.pipeline import make_pipeline"
      ],
      "metadata": {
        "id": "1a0091f2-f0c5-422f-a29f-f259346d0562"
      },
      "outputs": [],
      "execution_count": null
    },
    {
      "id": "78e38e4d-8d9a-4776-95d6-facb37a7d1dc",
      "cell_type": "code",
      "source": [],
      "metadata": {
        "id": "78e38e4d-8d9a-4776-95d6-facb37a7d1dc"
      },
      "outputs": [],
      "execution_count": null
    },
    {
      "id": "f04a9fb1-4fd4-4af8-88dc-572084d999e6",
      "cell_type": "code",
      "source": [
        "#Regression models"
      ],
      "metadata": {
        "id": "f04a9fb1-4fd4-4af8-88dc-572084d999e6"
      },
      "outputs": [],
      "execution_count": null
    },
    {
      "id": "1c1dba1d-b543-421c-9c8d-70e5a6aa28f6",
      "cell_type": "code",
      "source": [
        "from sklearn.svm import SVR\n",
        "from sklearn.ensemble import GradientBoostingRegressor\n",
        "from sklearn.ensemble import RandomForestRegressor\n",
        "from sklearn.tree import DecisionTreeRegressor\n",
        "from sklearn.linear_model import LogisticRegression\n",
        "from sklearn.neighbors import KNeighborsRegressor\n",
        "from sklearn.ensemble import BaggingRegressor"
      ],
      "metadata": {
        "id": "1c1dba1d-b543-421c-9c8d-70e5a6aa28f6"
      },
      "outputs": [],
      "execution_count": null
    },
    {
      "id": "2aca2147-fed9-4a10-9211-40211598e092",
      "cell_type": "code",
      "source": [],
      "metadata": {
        "id": "2aca2147-fed9-4a10-9211-40211598e092"
      },
      "outputs": [],
      "execution_count": null
    },
    {
      "id": "8cc7f4ce-61ad-449c-9ad0-adbb53f0cc01",
      "cell_type": "code",
      "source": [
        "#Model selection and Evaluation models\n",
        "from sklearn.model_selection import train_test_split\n",
        "from sklearn.model_selection import RandomizedSearchCV\n",
        "from sklearn.model_selection import cross_val_score"
      ],
      "metadata": {
        "id": "8cc7f4ce-61ad-449c-9ad0-adbb53f0cc01"
      },
      "outputs": [],
      "execution_count": null
    },
    {
      "id": "489d25b4-5cd7-4c1a-9624-ba8b71d42e14",
      "cell_type": "code",
      "source": [
        "from sklearn.compose import ColumnTransformer"
      ],
      "metadata": {
        "id": "489d25b4-5cd7-4c1a-9624-ba8b71d42e14"
      },
      "outputs": [],
      "execution_count": null
    },
    {
      "id": "403972d0-deb1-4cab-80f2-369293c50efb",
      "cell_type": "markdown",
      "source": [
        "#### DIVIDE THE DATA INTO TRAIN(70%) ,VALIDATE(15%) AND TESTING(15%)"
      ],
      "metadata": {
        "id": "403972d0-deb1-4cab-80f2-369293c50efb"
      }
    },
    {
      "id": "c34114e8-c287-44b7-81b7-c0b13f37c219",
      "cell_type": "code",
      "source": [],
      "metadata": {
        "id": "c34114e8-c287-44b7-81b7-c0b13f37c219"
      },
      "outputs": [],
      "execution_count": null
    },
    {
      "id": "86b4ea09-a324-4b84-8942-835f0943e168",
      "cell_type": "code",
      "source": [
        "dff.columns"
      ],
      "metadata": {
        "id": "86b4ea09-a324-4b84-8942-835f0943e168"
      },
      "outputs": [],
      "execution_count": null
    },
    {
      "id": "e5ea0b28-bde8-43fc-9ed7-a88aca9aba56",
      "cell_type": "code",
      "source": [
        "#Dividing the data into train,validate and test"
      ],
      "metadata": {
        "id": "e5ea0b28-bde8-43fc-9ed7-a88aca9aba56"
      },
      "outputs": [],
      "execution_count": null
    },
    {
      "id": "25eb4d80-f0ca-48e9-b58c-d8ef0c2f3370",
      "cell_type": "code",
      "source": [
        "X = dff.drop([\"Amount(Lac)\"],axis=1)\n",
        "y = dff[\"Amount(Lac)\"]"
      ],
      "metadata": {
        "id": "25eb4d80-f0ca-48e9-b58c-d8ef0c2f3370"
      },
      "outputs": [],
      "execution_count": null
    },
    {
      "id": "a07e8fe1-53f2-476f-aeaa-abb23f407218",
      "cell_type": "code",
      "source": [
        "X[:3]"
      ],
      "metadata": {
        "id": "a07e8fe1-53f2-476f-aeaa-abb23f407218"
      },
      "outputs": [],
      "execution_count": null
    },
    {
      "id": "f72d72a0-8835-45af-b08a-35367a7629f0",
      "cell_type": "code",
      "source": [
        "X_train,X_temp,y_train,y_temp = train_test_split(X,y,test_size=0.3,random_state=30)"
      ],
      "metadata": {
        "id": "f72d72a0-8835-45af-b08a-35367a7629f0"
      },
      "outputs": [],
      "execution_count": null
    },
    {
      "id": "ed37584a-085f-4441-9537-90a1585685fa",
      "cell_type": "code",
      "source": [
        "#Divide the X_temp and y_temp into validation and testing data into equal size 50% each"
      ],
      "metadata": {
        "id": "ed37584a-085f-4441-9537-90a1585685fa"
      },
      "outputs": [],
      "execution_count": null
    },
    {
      "id": "b5a627c1-b52b-4e2a-949d-a61ae8931cd1",
      "cell_type": "code",
      "source": [
        "X_val,X_test,y_val,y_test = train_test_split(X_temp,y_temp,test_size=0.5,random_state=30)"
      ],
      "metadata": {
        "id": "b5a627c1-b52b-4e2a-949d-a61ae8931cd1"
      },
      "outputs": [],
      "execution_count": null
    },
    {
      "id": "61e1a3e1-5efc-492b-9bc7-0892fa77337f",
      "cell_type": "code",
      "source": [],
      "metadata": {
        "id": "61e1a3e1-5efc-492b-9bc7-0892fa77337f"
      },
      "outputs": [],
      "execution_count": null
    },
    {
      "id": "386627eb-d06b-4148-892f-93c1ab98e190",
      "cell_type": "code",
      "source": [
        "#divide data into text,categorical and numerical arrays[ \"Amount\" taarget column]"
      ],
      "metadata": {
        "id": "386627eb-d06b-4148-892f-93c1ab98e190"
      },
      "outputs": [],
      "execution_count": null
    },
    {
      "id": "411676fe-5249-4d89-bca5-bad77914ef94",
      "cell_type": "code",
      "source": [
        "num_columns = [\"Bathroom\",\"Balcony\",\"Carpet_Area_sqft\",\"Price (Lac)\",\"Super_Area_sqft\"]\n",
        "\n",
        "cat_columns = [\"location\",\"Transaction\",\"Furnishing\",\"facing\",\"Ownership\"]\n"
      ],
      "metadata": {
        "id": "411676fe-5249-4d89-bca5-bad77914ef94"
      },
      "outputs": [],
      "execution_count": null
    },
    {
      "id": "ecd10c22-fb81-458a-86bb-13bc2e3bf978",
      "cell_type": "markdown",
      "source": [
        "#### Creating the pipeline"
      ],
      "metadata": {
        "id": "ecd10c22-fb81-458a-86bb-13bc2e3bf978"
      }
    },
    {
      "id": "e28502bd-8180-4e4c-9e7b-b2a18fb02b55",
      "cell_type": "code",
      "source": [
        "#Numericals\n",
        "num_pipe = Pipeline(steps=[\n",
        "    (\"impute\",SimpleImputer(strategy='mean')),\n",
        "    (\"scale\",StandardScaler())\n",
        "])"
      ],
      "metadata": {
        "id": "e28502bd-8180-4e4c-9e7b-b2a18fb02b55"
      },
      "outputs": [],
      "execution_count": null
    },
    {
      "id": "e25ea5a5-8f58-45b0-a0de-8c983a36074a",
      "cell_type": "code",
      "source": [
        "# Categorical\n",
        "cat_pipe = Pipeline(steps=[\n",
        "    (\"impute\",SimpleImputer(strategy='most_frequent')),\n",
        "    (\"one-hot-encoder\",OneHotEncoder(handle_unknown='ignore'))\n",
        "])"
      ],
      "metadata": {
        "id": "e25ea5a5-8f58-45b0-a0de-8c983a36074a"
      },
      "outputs": [],
      "execution_count": null
    },
    {
      "id": "66836b9f-beb4-4278-83cc-08778ffee91c",
      "cell_type": "code",
      "source": [
        "# Text columns preprocessing\n",
        "text_pipe1 = Pipeline(steps=[\n",
        "\n",
        "    (\"text_count\",CountVectorizer())\n",
        "\n",
        "])\n",
        "text_pipe2 = Pipeline(steps=[\n",
        "\n",
        "    (\"text_count\",CountVectorizer())\n",
        "\n",
        "])\n",
        "text_pipe3 = Pipeline(steps=[\n",
        "\n",
        "    (\"text_count\",CountVectorizer())\n",
        "\n",
        "])\n",
        "text_pipe4 = Pipeline(steps=[\n",
        "\n",
        "    (\"text_count\",CountVectorizer())\n",
        "\n",
        "])\n",
        "text_pipe5 = Pipeline(steps=[\n",
        "\n",
        "    (\"text_count\",CountVectorizer())\n",
        "\n",
        "])"
      ],
      "metadata": {
        "id": "66836b9f-beb4-4278-83cc-08778ffee91c"
      },
      "outputs": [],
      "execution_count": null
    },
    {
      "id": "94ac81a4-f7f7-412e-b605-8f0c5231ff77",
      "cell_type": "code",
      "source": [],
      "metadata": {
        "id": "94ac81a4-f7f7-412e-b605-8f0c5231ff77"
      },
      "outputs": [],
      "execution_count": null
    },
    {
      "id": "1250e1e9-aaab-4ab2-bc51-43ace554c37a",
      "cell_type": "markdown",
      "source": [
        "#### Creating ColumnTransformer"
      ],
      "metadata": {
        "id": "1250e1e9-aaab-4ab2-bc51-43ace554c37a"
      }
    },
    {
      "id": "3aa988ba-f50d-4d44-b1af-e6026de3ad7d",
      "cell_type": "code",
      "source": [
        "transformer = ColumnTransformer(transformers=[\n",
        "    (\"num_pipe\",num_pipe,num_columns),\n",
        "    (\"cat_pipe\",cat_pipe,cat_columns),\n",
        "    (\"text_pipe1\",text_pipe1,\"Title\"),\n",
        "    (\"text_pipe2\",text_pipe2,\"Description\"),\n",
        "    (\"text_pipe3\",text_pipe3,\"Status\"),\n",
        "    (\"text_pipe4\",text_pipe4,\"Floor\"),\n",
        "    (\"text_pipe5\",text_pipe5,\"overlooking\")\n",
        "    ],\n",
        "    remainder='drop'\n",
        "\n",
        ")"
      ],
      "metadata": {
        "id": "3aa988ba-f50d-4d44-b1af-e6026de3ad7d"
      },
      "outputs": [],
      "execution_count": null
    },
    {
      "id": "2fa084d5-1f2d-49e5-84e3-e51c5fa5a9e7",
      "cell_type": "code",
      "source": [
        "transformer"
      ],
      "metadata": {
        "id": "2fa084d5-1f2d-49e5-84e3-e51c5fa5a9e7"
      },
      "outputs": [],
      "execution_count": null
    },
    {
      "id": "fa9950ad-dd2a-4f2f-96d1-a1fa03e51fe6",
      "cell_type": "code",
      "source": [],
      "metadata": {
        "id": "fa9950ad-dd2a-4f2f-96d1-a1fa03e51fe6"
      },
      "outputs": [],
      "execution_count": null
    },
    {
      "id": "0de4cdbb-6ac3-44e0-a234-b586ce718524",
      "cell_type": "markdown",
      "source": [
        "### Model Hyperparameter tuning and evaluation using metrics"
      ],
      "metadata": {
        "id": "0de4cdbb-6ac3-44e0-a234-b586ce718524"
      }
    },
    {
      "id": "b290d13b-aa71-4e77-9bf6-6846a28604c5",
      "cell_type": "code",
      "source": [
        "#Creating a json dict for parameter tuning\n",
        "model_tuning = {\n",
        "    \"svr\":{\n",
        "       \"model\" :SVR(),\n",
        "       \"params\":{'kernel':['rbf','linear'],'degree':[3,4,5],'C':[1,10,50,100],'gamma':['scale', 'auto']}\n",
        "    },\n",
        "    \"GBR\":{\n",
        "       \"model\" :GradientBoostingRegressor(),\n",
        "       \"params\":{'n_estimators':[1,10,20,100],'learning_rate':[0.1,0.5,0.9]}\n",
        "    },\n",
        "    \"RFR\":{\n",
        "       \"model\" :RandomForestRegressor(),\n",
        "       \"params\":{'n_estimators':[10,50,100,120]}\n",
        "    },\n",
        "    \"DTR\":{\n",
        "       \"model\" :DecisionTreeRegressor(),\n",
        "       \"params\":{'splitter':[\"best\"]}\n",
        "    },\n",
        "    \"KNN\":{\n",
        "       \"model\" :KNeighborsRegressor(),\n",
        "       \"params\":{'n_neighbors':[3,5,10,15]}\n",
        "    }\n",
        "\n",
        "\n",
        "}"
      ],
      "metadata": {
        "id": "b290d13b-aa71-4e77-9bf6-6846a28604c5"
      },
      "outputs": [],
      "execution_count": null
    },
    {
      "id": "f9c1cbfc-5228-44f1-a8d9-7a71d22f650d",
      "cell_type": "code",
      "source": [],
      "metadata": {
        "id": "f9c1cbfc-5228-44f1-a8d9-7a71d22f650d"
      },
      "outputs": [],
      "execution_count": null
    },
    {
      "id": "6a5d4b92-7963-4755-9732-1b632792ce90",
      "cell_type": "code",
      "source": [
        "from sklearn.model_selection import GridSearchCV #for hyperparameter tuning"
      ],
      "metadata": {
        "id": "6a5d4b92-7963-4755-9732-1b632792ce90"
      },
      "outputs": [],
      "execution_count": null
    },
    {
      "id": "ff55c3ad-0dfd-414b-8e93-59c49bb57f07",
      "cell_type": "code",
      "source": [
        "model_score = []"
      ],
      "metadata": {
        "id": "ff55c3ad-0dfd-414b-8e93-59c49bb57f07"
      },
      "outputs": [],
      "execution_count": null
    },
    {
      "id": "d73cd1e5-b89f-4801-a538-b53b52a0ee1f",
      "cell_type": "code",
      "source": [
        "#A for loop to acess the model and it's parameters\n",
        "for name,model_name in model_tuning.items():\n",
        "    model1 = GridSearchCV(model_name['model'],model_name['params'],cv=5,return_train_score=False)\n",
        "    model2 = make_pipeline(transformer,model1) #transformer for data preprocessing before fitting\n",
        "    model2.fit(X_train,y_train)\n",
        "    model_score.append({\n",
        "        \"\":name,\n",
        "        \"best_performance\":model1.best_score_,\n",
        "        \"best_params\":model1.best_params_\n",
        "    })\n"
      ],
      "metadata": {
        "id": "d73cd1e5-b89f-4801-a538-b53b52a0ee1f"
      },
      "outputs": [],
      "execution_count": null
    },
    {
      "id": "bf9288c2-632a-4d85-a3db-f44d25be303f",
      "cell_type": "code",
      "source": [],
      "metadata": {
        "id": "bf9288c2-632a-4d85-a3db-f44d25be303f"
      },
      "outputs": [],
      "execution_count": null
    },
    {
      "id": "5e6d4aee-b5ae-4d74-bcb0-121bd3f06206",
      "cell_type": "code",
      "source": [
        "pd.DataFrame(model_score) #Displaying a dataframe of the models performances and parameters"
      ],
      "metadata": {
        "id": "5e6d4aee-b5ae-4d74-bcb0-121bd3f06206"
      },
      "outputs": [],
      "execution_count": null
    },
    {
      "id": "8c87a75f-81b1-4f2c-a7d4-b230fdea7a67",
      "cell_type": "code",
      "source": [],
      "metadata": {
        "id": "8c87a75f-81b1-4f2c-a7d4-b230fdea7a67"
      },
      "outputs": [],
      "execution_count": null
    },
    {
      "id": "8d47455a-5773-48fa-a8a3-57e467514533",
      "cell_type": "markdown",
      "source": [
        "#### Make_pipeline to join or link the transformer and voting"
      ],
      "metadata": {
        "id": "8d47455a-5773-48fa-a8a3-57e467514533"
      }
    },
    {
      "id": "fb5a04b2-fe14-4610-95d5-4c48fd4f8add",
      "cell_type": "code",
      "source": [
        "#Create the voting regressor for the models, using the best performing models above"
      ],
      "metadata": {
        "id": "fb5a04b2-fe14-4610-95d5-4c48fd4f8add"
      },
      "outputs": [],
      "execution_count": null
    },
    {
      "id": "b6c53dbb-ce4f-40b1-96a9-db262df0038c",
      "cell_type": "code",
      "source": [],
      "metadata": {
        "id": "b6c53dbb-ce4f-40b1-96a9-db262df0038c"
      },
      "outputs": [],
      "execution_count": null
    },
    {
      "id": "b56a8fb7-524b-40ce-9b21-40e84423f763",
      "cell_type": "code",
      "source": [
        "#SupportVectorRegressor,GradientBoostingRegressor,DTR,KNN and RandomForestRegressor performs best\n",
        "\n",
        "voting = VotingRegressor(estimators=[\n",
        "    (\"svr\",SVR(kernel='linear',C=100,gamma='auto')),\n",
        "    (\"gboost\",GradientBoostingRegressor()),\n",
        "    (\"randomForest\",RandomForestRegressor(n_estimators=120)),\n",
        "    (\"DTR\",DecisionTreeRegressor()),\n",
        "    (\"KNN\",KNeighborsRegressor())\n",
        "\n",
        "])"
      ],
      "metadata": {
        "id": "b56a8fb7-524b-40ce-9b21-40e84423f763"
      },
      "outputs": [],
      "execution_count": null
    },
    {
      "id": "edda9354-09d0-4dc2-823d-4e6fd25fb593",
      "cell_type": "code",
      "source": [
        "voting"
      ],
      "metadata": {
        "id": "edda9354-09d0-4dc2-823d-4e6fd25fb593"
      },
      "outputs": [],
      "execution_count": null
    },
    {
      "id": "9dd80efe-13af-47dc-ba1b-e11c1323a392",
      "cell_type": "code",
      "source": [
        "model = make_pipeline(transformer,voting) #making the pipeline"
      ],
      "metadata": {
        "id": "9dd80efe-13af-47dc-ba1b-e11c1323a392"
      },
      "outputs": [],
      "execution_count": null
    },
    {
      "id": "dab3bdbb-8f8e-46c6-900f-cfaa3c4a3823",
      "cell_type": "markdown",
      "source": [
        "### LINKING THE TRANSFORMER AND VOTING PIPES USING make_pipeline"
      ],
      "metadata": {
        "id": "dab3bdbb-8f8e-46c6-900f-cfaa3c4a3823"
      }
    },
    {
      "id": "2fcf94dc-74fd-4c21-a5ec-5fbb51f249f3",
      "cell_type": "code",
      "source": [
        "# Training the model using fit\n",
        "model.fit(X_train,y_train)"
      ],
      "metadata": {
        "id": "2fcf94dc-74fd-4c21-a5ec-5fbb51f249f3"
      },
      "outputs": [],
      "execution_count": null
    },
    {
      "id": "36cbdce3-e7d4-4543-a882-d578f6c6ee41",
      "cell_type": "code",
      "source": [],
      "metadata": {
        "id": "36cbdce3-e7d4-4543-a882-d578f6c6ee41"
      },
      "outputs": [],
      "execution_count": null
    },
    {
      "id": "edc8f252-70d6-42bc-a01d-3e050e38612a",
      "cell_type": "code",
      "source": [
        "model.score(X_val,y_val) #Model validation"
      ],
      "metadata": {
        "id": "edc8f252-70d6-42bc-a01d-3e050e38612a"
      },
      "outputs": [],
      "execution_count": null
    },
    {
      "id": "c553bcda-7d75-4eb3-acd0-76539c241da8",
      "cell_type": "code",
      "source": [],
      "metadata": {
        "id": "c553bcda-7d75-4eb3-acd0-76539c241da8"
      },
      "outputs": [],
      "execution_count": null
    },
    {
      "id": "1a4bd001-019e-48ec-a421-f2e57cd32854",
      "cell_type": "markdown",
      "source": [
        "## MODEL EVALUATION"
      ],
      "metadata": {
        "id": "1a4bd001-019e-48ec-a421-f2e57cd32854"
      }
    },
    {
      "id": "56f92244-82e5-4d38-b220-093a89cc391c",
      "cell_type": "code",
      "source": [
        "from sklearn.metrics import confusion_matrix\n",
        "from sklearn.metrics import mean_absolute_error\n",
        "from sklearn.metrics import accuracy_score"
      ],
      "metadata": {
        "id": "56f92244-82e5-4d38-b220-093a89cc391c"
      },
      "outputs": [],
      "execution_count": null
    },
    {
      "id": "6274c776-6ff1-4fdc-8937-885d361dd9d9",
      "cell_type": "code",
      "source": [
        "#Checking my model performance using my testing dataset"
      ],
      "metadata": {
        "id": "6274c776-6ff1-4fdc-8937-885d361dd9d9"
      },
      "outputs": [],
      "execution_count": null
    },
    {
      "id": "e1c42af7-1f3b-4234-bdd3-abbff2460a78",
      "cell_type": "code",
      "source": [
        "y_predicted = model.predict(X_test)"
      ],
      "metadata": {
        "id": "e1c42af7-1f3b-4234-bdd3-abbff2460a78"
      },
      "outputs": [],
      "execution_count": null
    },
    {
      "id": "ae549bb8-0900-44c3-ab99-5cedb178fbd2",
      "cell_type": "code",
      "source": [
        "MAE = mean_absolute_error(y_test,y_predicted)\n",
        "round(MAE,3)"
      ],
      "metadata": {
        "id": "ae549bb8-0900-44c3-ab99-5cedb178fbd2"
      },
      "outputs": [],
      "execution_count": null
    },
    {
      "id": "ccceb626-a70b-4351-95b2-2aa652304730",
      "cell_type": "code",
      "source": [],
      "metadata": {
        "id": "ccceb626-a70b-4351-95b2-2aa652304730"
      },
      "outputs": [],
      "execution_count": null
    },
    {
      "id": "3aedb7c6-8ab1-4ab7-a8c1-6c75866bcaa8",
      "cell_type": "markdown",
      "source": [
        "### SAVING THE MODEL USING JOBLIB LIBRARY"
      ],
      "metadata": {
        "id": "3aedb7c6-8ab1-4ab7-a8c1-6c75866bcaa8"
      }
    },
    {
      "id": "9d4d178c-a2b0-443e-a6ac-d65e022abc42",
      "cell_type": "code",
      "source": [
        "import joblib"
      ],
      "metadata": {
        "id": "9d4d178c-a2b0-443e-a6ac-d65e022abc42"
      },
      "outputs": [],
      "execution_count": null
    },
    {
      "id": "ff6bedc1-ac2f-4919-bcd6-fb3098dc525f",
      "cell_type": "code",
      "source": [
        "joblib.dump(model,\"house_prediction.pkl\")"
      ],
      "metadata": {
        "id": "ff6bedc1-ac2f-4919-bcd6-fb3098dc525f"
      },
      "outputs": [],
      "execution_count": null
    },
    {
      "id": "b3bd6407-f91d-44be-9483-3fdaaad1bf6b",
      "cell_type": "code",
      "source": [
        "final_model = joblib.load(\"house_prediction.pkl\")"
      ],
      "metadata": {
        "id": "b3bd6407-f91d-44be-9483-3fdaaad1bf6b"
      },
      "outputs": [],
      "execution_count": null
    },
    {
      "id": "98496360-8942-456e-b03d-4f53ca5ef7ca",
      "cell_type": "markdown",
      "source": [
        "##### Testing my final model"
      ],
      "metadata": {
        "id": "98496360-8942-456e-b03d-4f53ca5ef7ca"
      }
    },
    {
      "id": "c9fb96f1-7eb5-4248-9331-27a185801781",
      "cell_type": "code",
      "source": [
        "final_model.predict(X_test[10:20]).tolist()"
      ],
      "metadata": {
        "id": "c9fb96f1-7eb5-4248-9331-27a185801781"
      },
      "outputs": [],
      "execution_count": null
    },
    {
      "id": "5f53d387-6869-4d8b-b42e-a613db641e65",
      "cell_type": "markdown",
      "source": [
        "##### Expected answers of the unseen data, for testing the model"
      ],
      "metadata": {
        "id": "5f53d387-6869-4d8b-b42e-a613db641e65"
      }
    },
    {
      "id": "9c84c69e-6f11-4064-9d05-1a5d90639f62",
      "cell_type": "code",
      "source": [
        "y_test[10:20].tolist()"
      ],
      "metadata": {
        "id": "9c84c69e-6f11-4064-9d05-1a5d90639f62"
      },
      "outputs": [],
      "execution_count": null
    },
    {
      "id": "16f65502-55c8-40a4-8825-ece006707baa",
      "cell_type": "code",
      "source": [
        "final_model.score(X_test,y_test)"
      ],
      "metadata": {
        "id": "16f65502-55c8-40a4-8825-ece006707baa"
      },
      "outputs": [],
      "execution_count": null
    },
    {
      "id": "406b36ff-8274-451f-a776-947ed0f218f9",
      "cell_type": "code",
      "source": [],
      "metadata": {
        "id": "406b36ff-8274-451f-a776-947ed0f218f9"
      },
      "outputs": [],
      "execution_count": null
    },
    {
      "id": "dc32131b-7ef9-4f49-aec8-7b70bf2081fd",
      "cell_type": "code",
      "source": [],
      "metadata": {
        "id": "dc32131b-7ef9-4f49-aec8-7b70bf2081fd"
      },
      "outputs": [],
      "execution_count": null
    }
  ]
}